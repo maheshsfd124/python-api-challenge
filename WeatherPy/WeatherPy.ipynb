{
 "cells": [
  {
   "cell_type": "markdown",
   "metadata": {},
   "source": [
    "# WeatherPy\n",
    "----\n",
    "\n",
    "#### Note\n",
    "* Instructions have been included for each segment. You do not have to follow them exactly, but they are included to help you think through the steps."
   ]
  },
  {
   "cell_type": "code",
   "execution_count": 93,
   "metadata": {
    "scrolled": true
   },
   "outputs": [],
   "source": [
    "# Dependencies and Setup\n",
    "import matplotlib.pyplot as plt\n",
    "import pandas as pd\n",
    "import numpy as np\n",
    "import requests\n",
    "import time\n",
    "import json\n",
    "from scipy.stats import linregress\n",
    "\n",
    "# Import API key\n",
    "from api_keys import weather_api_key\n",
    "\n",
    "# Incorporated citipy to determine city based on latitude and longitude\n",
    "from citipy import citipy\n",
    "\n",
    "# Output File (CSV)\n",
    "output_data_file = \"output_data/cities.csv\"\n",
    "\n",
    "# Range of latitudes and longitudes\n",
    "lat_range = (-90, 90)\n",
    "lng_range = (-180, 180)"
   ]
  },
  {
   "cell_type": "markdown",
   "metadata": {},
   "source": [
    "## Generate Cities List"
   ]
  },
  {
   "cell_type": "code",
   "execution_count": 94,
   "metadata": {},
   "outputs": [
    {
     "data": {
      "text/plain": [
       "606"
      ]
     },
     "execution_count": 94,
     "metadata": {},
     "output_type": "execute_result"
    }
   ],
   "source": [
    "# List for holding lat_lngs and cities\n",
    "lat_lngs = []\n",
    "cities = []\n",
    "# Create a set of random lat and lng combinations\n",
    "lats = np.random.uniform(lat_range[0], lat_range[1], size=1500)\n",
    "lngs = np.random.uniform(lng_range[0], lng_range[1], size=1500)\n",
    "lat_lngs = zip(lats, lngs)\n",
    "\n",
    "# Identify nearest city for each lat, lng combination\n",
    "for lat_lng in lat_lngs:\n",
    "    city = citipy.nearest_city(lat_lng[0], lat_lng[1]).city_name\n",
    "    \n",
    "    # If the city is unique, then add it to a our cities list\n",
    "    if city not in cities:\n",
    "        cities.append(city)\n",
    "\n",
    "# Print the city count to confirm sufficient count\n",
    "len(cities)\n"
   ]
  },
  {
   "cell_type": "markdown",
   "metadata": {},
   "source": [
    "### Perform API Calls\n",
    "* Perform a weather check on each city using a series of successive API calls.\n",
    "* Include a print log of each city as it'sbeing processed (with the city number and city name).\n"
   ]
  },
  {
   "cell_type": "code",
   "execution_count": 95,
   "metadata": {
    "scrolled": true
   },
   "outputs": [
    {
     "name": "stdout",
     "output_type": "stream",
     "text": [
      "Processing Record 1 | hamilton\n",
      "Processing Record 2 | busselton\n",
      "Processing Record 3 | ahipara\n",
      "Processing Record 4 | ormara\n",
      "Processing Record 5 | beaufort\n",
      "Processing Record 6 | ust-kuyga\n",
      "Processing Record 7 | hervey bay\n",
      "Processing Record 8 | mataura\n",
      "Processing Record 9 | grindavik\n",
      "Processing Record 10 | constitucion\n",
      "Processing Record 11 | puerto ayora\n",
      "Processing Record 12 | punta arenas\n",
      "Processing Record 13 | greenwood\n",
      "Processing Record 14 | mar del plata\n",
      "Processing Record 15 | baruun-urt\n",
      "Processing Record 16 | kodiak\n",
      "Processing Record 17 | qaanaaq\n",
      "Processing Record 18 | port alfred\n",
      "Processing Record 19 | rikitea\n",
      "Processing Record 20 | richards bay\n",
      "Processing Record 21 | carnarvon\n",
      "Processing Record 22 | chokurdakh\n",
      "Processing Record 23 | anloga\n",
      "Processing Record 24 | kapuskasing\n",
      "Processing Record 25 | pevek\n",
      "Processing Record 26 | avarua\n",
      "Processing Record 27 | cape town\n",
      "Processing Record 28 | saskylakh\n",
      "Processing Record 29 | isangel\n",
      "Processing Record 30 | lagoa\n",
      "Processing Record 31 | taseyevo\n",
      "Processing Record 32 | inverell\n",
      "Processing Record 33 | atuona\n",
      "Processing Record 34 | saldanha\n",
      "city not available\n",
      "Processing Record 35 | mastic beach\n",
      "Processing Record 36 | victoria\n",
      "Processing Record 37 | kapaa\n",
      "city not available\n",
      "Processing Record 38 | norman wells\n",
      "Processing Record 39 | lexington\n",
      "Processing Record 40 | port macquarie\n",
      "Processing Record 41 | veraval\n",
      "Processing Record 42 | port lincoln\n",
      "Processing Record 43 | esperance\n",
      "Processing Record 44 | albany\n",
      "Processing Record 45 | thompson\n",
      "Processing Record 46 | bredasdorp\n",
      "Processing Record 47 | mocoa\n",
      "Processing Record 48 | coos bay\n",
      "Processing Record 49 | sitka\n",
      "Processing Record 50 | mangrol\n",
      "Processing Record 51 | new norfolk\n",
      "Processing Record 52 | kalmunai\n",
      "Processing Record 53 | ushuaia\n",
      "Processing Record 54 | chernyshevskiy\n",
      "Processing Record 55 | nome\n",
      "city not available\n",
      "Processing Record 56 | provideniya\n",
      "city not available\n",
      "Processing Record 57 | menongue\n",
      "Processing Record 58 | khatanga\n",
      "Processing Record 59 | kavaratti\n",
      "Processing Record 60 | castro\n",
      "Processing Record 61 | vila velha\n",
      "Processing Record 62 | kieta\n",
      "Processing Record 63 | shahr-e babak\n",
      "Processing Record 64 | davenda\n",
      "Processing Record 65 | katobu\n",
      "Processing Record 66 | moshny\n",
      "Processing Record 67 | torbay\n",
      "Processing Record 68 | bairnsdale\n",
      "Processing Record 69 | caravelas\n",
      "Processing Record 70 | inverness\n",
      "Processing Record 71 | upernavik\n",
      "Processing Record 72 | hermanus\n",
      "Processing Record 73 | porto belo\n",
      "Processing Record 74 | grand gaube\n",
      "Processing Record 75 | kisangani\n",
      "Processing Record 76 | tiznit\n",
      "Processing Record 77 | nisia floresta\n",
      "Processing Record 78 | mweka\n",
      "Processing Record 79 | bluff\n",
      "Processing Record 80 | dikson\n",
      "Processing Record 81 | port-gentil\n",
      "Processing Record 82 | imbituba\n",
      "Processing Record 83 | vaini\n",
      "Processing Record 84 | tiksi\n",
      "Processing Record 85 | sao filipe\n",
      "Processing Record 86 | tirat karmel\n",
      "Processing Record 87 | orange\n",
      "Processing Record 88 | nikolskoye\n",
      "Processing Record 89 | pisco\n",
      "Processing Record 90 | okhotsk\n",
      "Processing Record 91 | barrow\n",
      "Processing Record 92 | shingu\n",
      "Processing Record 93 | miandrivazo\n",
      "Processing Record 94 | jamestown\n",
      "city not available\n",
      "Processing Record 95 | silver city\n",
      "Processing Record 96 | cidreira\n",
      "Processing Record 97 | matane\n",
      "Processing Record 98 | chuy\n",
      "Processing Record 99 | katunino\n",
      "Processing Record 100 | tuktoyaktuk\n",
      "Processing Record 101 | faanui\n",
      "Processing Record 102 | xambioa\n",
      "city not available\n",
      "Processing Record 103 | pacific grove\n",
      "Processing Record 104 | sigli\n",
      "Processing Record 105 | winchester\n",
      "Processing Record 106 | ust-nera\n",
      "Processing Record 107 | jian\n",
      "city not available\n",
      "Processing Record 108 | cap malheureux\n",
      "Processing Record 109 | abu samrah\n",
      "Processing Record 110 | yaan\n",
      "Processing Record 111 | olafsvik\n",
      "Processing Record 112 | nizhniy ufaley\n",
      "Processing Record 113 | lebu\n",
      "Processing Record 114 | college\n",
      "Processing Record 115 | sangar\n",
      "Processing Record 116 | saint-philippe\n",
      "Processing Record 117 | yellowknife\n",
      "Processing Record 118 | vila franca do campo\n",
      "Processing Record 119 | lahij\n",
      "city not available\n",
      "Processing Record 120 | nyangao\n",
      "Processing Record 121 | golyshmanovo\n",
      "Processing Record 122 | chenghai\n",
      "Processing Record 123 | mongomo\n",
      "Processing Record 124 | kuandian\n",
      "Processing Record 125 | linxia\n",
      "Processing Record 126 | yelatma\n",
      "Processing Record 127 | east london\n",
      "Processing Record 128 | talnakh\n",
      "Processing Record 129 | reckange\n",
      "Processing Record 130 | hobart\n",
      "Processing Record 131 | hithadhoo\n",
      "Processing Record 132 | kavieng\n",
      "Processing Record 133 | ribeira grande\n",
      "Processing Record 134 | sao joao da barra\n",
      "Processing Record 135 | westport\n",
      "Processing Record 136 | honiara\n",
      "Processing Record 137 | mwinilunga\n",
      "Processing Record 138 | kouango\n",
      "city not available\n",
      "Processing Record 139 | hilo\n",
      "Processing Record 140 | nosy varika\n",
      "city not available\n",
      "Processing Record 141 | poros\n",
      "Processing Record 142 | laguna\n",
      "Processing Record 143 | kothi\n",
      "city not available\n",
      "Processing Record 144 | garowe\n",
      "city not available\n",
      "Processing Record 145 | faya\n",
      "Processing Record 146 | luderitz\n",
      "Processing Record 147 | kuremaa\n",
      "Processing Record 148 | eenhana\n",
      "Processing Record 149 | aleksandrov gay\n",
      "Processing Record 150 | pulaski\n",
      "Processing Record 151 | pedra azul\n",
      "Processing Record 152 | kadom\n",
      "Processing Record 153 | rio gallegos\n",
      "city not available\n",
      "Processing Record 154 | yuryuzan\n",
      "Processing Record 155 | georgetown\n",
      "Processing Record 156 | presidencia roque saenz pena\n",
      "Processing Record 157 | bernay\n",
      "Processing Record 158 | campoverde\n",
      "Processing Record 159 | vila\n",
      "city not available\n",
      "Processing Record 160 | alice springs\n",
      "Processing Record 161 | visnes\n",
      "Processing Record 162 | sur\n",
      "Processing Record 163 | kahului\n",
      "Processing Record 164 | bambanglipuro\n",
      "Processing Record 165 | cacica\n",
      "Processing Record 166 | itoman\n",
      "Processing Record 167 | cabra\n",
      "Processing Record 168 | siyabuswa\n",
      "Processing Record 169 | bosobolo\n",
      "Processing Record 170 | san jose\n",
      "Processing Record 171 | kathu\n",
      "Processing Record 172 | atar\n",
      "Processing Record 173 | arraial do cabo\n",
      "Processing Record 174 | lulea\n",
      "city not available\n",
      "Processing Record 175 | kruisfontein\n",
      "Processing Record 176 | sinnamary\n",
      "Processing Record 177 | banda aceh\n",
      "Processing Record 178 | amahai\n",
      "Processing Record 179 | ponta do sol\n",
      "Processing Record 180 | beringovskiy\n",
      "Processing Record 181 | novo aripuana\n",
      "Processing Record 182 | petropavlovsk-kamchatskiy\n",
      "Processing Record 183 | napier\n",
      "Processing Record 184 | gribanovskiy\n",
      "Processing Record 185 | broome\n",
      "city not available\n",
      "city not available\n",
      "Processing Record 186 | krasnovishersk\n",
      "Processing Record 187 | hoquiam\n",
      "Processing Record 188 | saint anthony\n",
      "Processing Record 189 | ust-kalmanka\n",
      "Processing Record 190 | gat\n",
      "Processing Record 191 | estevan\n",
      "Processing Record 192 | naze\n",
      "Processing Record 193 | ulladulla\n",
      "Processing Record 194 | north bend\n",
      "Processing Record 195 | krutinka\n",
      "Processing Record 196 | ratnagiri\n",
      "city not available\n",
      "Processing Record 197 | codrington\n",
      "Processing Record 198 | visby\n",
      "Processing Record 199 | bambous virieux\n",
      "Processing Record 200 | hasaki\n",
      "Processing Record 201 | cap-aux-meules\n",
      "Processing Record 202 | belmonte\n",
      "Processing Record 203 | werota\n",
      "Processing Record 204 | anito\n",
      "Processing Record 205 | notre-dame-du-lac\n",
      "Processing Record 206 | mahebourg\n",
      "Processing Record 207 | chiang khong\n",
      "Processing Record 208 | barcelos\n",
      "Processing Record 209 | lompoc\n",
      "Processing Record 210 | chifeng\n",
      "Processing Record 211 | mackay\n",
      "Processing Record 212 | vanavara\n",
      "Processing Record 213 | pechenga\n",
      "Processing Record 214 | taoudenni\n",
      "Processing Record 215 | marsh harbour\n",
      "city not available\n",
      "Processing Record 216 | fortuna\n",
      "Processing Record 217 | sri aman\n",
      "Processing Record 218 | nouadhibou\n",
      "Processing Record 219 | kulhudhuffushi\n",
      "Processing Record 220 | hualmay\n",
      "Processing Record 221 | clyde river\n",
      "Processing Record 222 | vanimo\n",
      "Processing Record 223 | trairi\n",
      "Processing Record 224 | walvis bay\n",
      "Processing Record 225 | husavik\n",
      "Processing Record 226 | meulaboh\n",
      "Processing Record 227 | inirida\n",
      "Processing Record 228 | souillac\n",
      "Processing Record 229 | flinders\n",
      "Processing Record 230 | camacha\n",
      "Processing Record 231 | half moon bay\n",
      "Processing Record 232 | labytnangi\n",
      "Processing Record 233 | touros\n",
      "Processing Record 234 | labuhan\n",
      "Processing Record 235 | shache\n",
      "Processing Record 236 | ugoofaaru\n",
      "Processing Record 237 | tirano\n"
     ]
    },
    {
     "name": "stdout",
     "output_type": "stream",
     "text": [
      "Processing Record 238 | prince rupert\n",
      "Processing Record 239 | sept-iles\n",
      "Processing Record 240 | nishihara\n",
      "Processing Record 241 | iqaluit\n",
      "Processing Record 242 | butaritari\n",
      "Processing Record 243 | tasiilaq\n",
      "Processing Record 244 | lamu\n",
      "Processing Record 245 | general roca\n",
      "Processing Record 246 | port hedland\n",
      "Processing Record 247 | morondava\n",
      "Processing Record 248 | maniitsoq\n",
      "Processing Record 249 | darnah\n",
      "Processing Record 250 | dawson\n",
      "Processing Record 251 | san rafael\n",
      "Processing Record 252 | yulara\n",
      "Processing Record 253 | wanning\n",
      "Processing Record 254 | gobabis\n",
      "Processing Record 255 | port elizabeth\n",
      "Processing Record 256 | coswig\n",
      "Processing Record 257 | seoul\n",
      "Processing Record 258 | cabo san lucas\n",
      "Processing Record 259 | tshela\n",
      "city not available\n",
      "city not available\n",
      "Processing Record 260 | dabat\n",
      "Processing Record 261 | karratha\n",
      "Processing Record 262 | mehamn\n",
      "Processing Record 263 | kaitangata\n",
      "Processing Record 264 | booue\n",
      "Processing Record 265 | wanaka\n",
      "Processing Record 266 | san patricio\n",
      "city not available\n",
      "Processing Record 267 | klaksvik\n",
      "Processing Record 268 | derzhavinsk\n",
      "Processing Record 269 | nanortalik\n",
      "Processing Record 270 | port hardy\n",
      "Processing Record 271 | bellevue\n",
      "Processing Record 272 | severo-kurilsk\n",
      "Processing Record 273 | roma\n",
      "Processing Record 274 | dzhebariki-khaya\n",
      "Processing Record 275 | oriximina\n",
      "Processing Record 276 | acapulco\n",
      "Processing Record 277 | palmas de monte alto\n",
      "city not available\n",
      "Processing Record 278 | ilulissat\n",
      "Processing Record 279 | leningradskiy\n",
      "Processing Record 280 | bandar\n",
      "Processing Record 281 | ostrovnoy\n",
      "Processing Record 282 | portland\n",
      "Processing Record 283 | khandyga\n",
      "Processing Record 284 | russell\n",
      "Processing Record 285 | buseresere\n",
      "Processing Record 286 | saint-quentin\n",
      "Processing Record 287 | carutapera\n",
      "Processing Record 288 | rennes\n",
      "Processing Record 289 | vestmanna\n",
      "Processing Record 290 | poum\n",
      "Processing Record 291 | maningrida\n",
      "Processing Record 292 | parral\n",
      "Processing Record 293 | quchan\n",
      "Processing Record 294 | goias\n",
      "Processing Record 295 | myanaung\n",
      "city not available\n",
      "Processing Record 296 | petrov val\n",
      "Processing Record 297 | bulungu\n",
      "Processing Record 298 | praia da vitoria\n",
      "Processing Record 299 | warren\n",
      "city not available\n",
      "Processing Record 300 | srivardhan\n",
      "Processing Record 301 | ravar\n",
      "Processing Record 302 | christchurch\n",
      "Processing Record 303 | lakes entrance\n",
      "Processing Record 304 | bethel\n",
      "Processing Record 305 | saint-pierre\n",
      "Processing Record 306 | jardim\n",
      "Processing Record 307 | lorengau\n",
      "city not available\n",
      "Processing Record 308 | kabinda\n",
      "Processing Record 309 | qixingtai\n",
      "Processing Record 310 | airai\n",
      "Processing Record 311 | solnechnyy\n",
      "Processing Record 312 | ixtapa\n",
      "Processing Record 313 | quatre cocos\n",
      "Processing Record 314 | srednekolymsk\n",
      "Processing Record 315 | rognan\n",
      "Processing Record 316 | ust-ilimsk\n",
      "Processing Record 317 | matagami\n",
      "Processing Record 318 | temple\n",
      "Processing Record 319 | rocha\n",
      "Processing Record 320 | kirensk\n",
      "Processing Record 321 | mana\n",
      "Processing Record 322 | parana\n",
      "city not available\n",
      "Processing Record 323 | nakasongola\n",
      "Processing Record 324 | lingyuan\n",
      "Processing Record 325 | battle creek\n",
      "Processing Record 326 | altamira\n",
      "Processing Record 327 | gamba\n",
      "Processing Record 328 | mayumba\n",
      "city not available\n",
      "Processing Record 329 | cherskiy\n",
      "Processing Record 330 | guerrero negro\n",
      "Processing Record 331 | deputatskiy\n",
      "Processing Record 332 | leeton\n",
      "Processing Record 333 | qasigiannguit\n",
      "Processing Record 334 | sibenik\n",
      "Processing Record 335 | gberia fotombu\n",
      "Processing Record 336 | mgandu\n",
      "Processing Record 337 | bathsheba\n",
      "Processing Record 338 | berlevag\n",
      "city not available\n",
      "Processing Record 339 | praya\n",
      "Processing Record 340 | nalut\n",
      "Processing Record 341 | mayo\n",
      "Processing Record 342 | svetlaya\n",
      "Processing Record 343 | manggar\n",
      "Processing Record 344 | ramkola\n",
      "Processing Record 345 | parit buntar\n",
      "Processing Record 346 | alakurtti\n",
      "Processing Record 347 | dunedin\n",
      "Processing Record 348 | inhambane\n",
      "Processing Record 349 | gorontalo\n",
      "Processing Record 350 | hofn\n",
      "Processing Record 351 | vrable\n",
      "Processing Record 352 | alto araguaia\n",
      "Processing Record 353 | antofagasta\n",
      "Processing Record 354 | biltine\n",
      "Processing Record 355 | qaqortoq\n",
      "Processing Record 356 | charters towers\n",
      "Processing Record 357 | patacamaya\n",
      "Processing Record 358 | axim\n",
      "city not available\n",
      "Processing Record 359 | tessalit\n",
      "Processing Record 360 | brigham city\n",
      "Processing Record 361 | isparta\n",
      "Processing Record 362 | paamiut\n",
      "Processing Record 363 | oktyabrskiy\n",
      "Processing Record 364 | paraiso\n",
      "Processing Record 365 | puerto ayacucho\n",
      "Processing Record 366 | svetlogorsk\n",
      "Processing Record 367 | puerto escondido\n",
      "Processing Record 368 | nichinan\n",
      "Processing Record 369 | skibbereen\n",
      "Processing Record 370 | bondoukou\n",
      "Processing Record 371 | high level\n",
      "Processing Record 372 | bangolo\n",
      "Processing Record 373 | awbari\n",
      "Processing Record 374 | puerto del rosario\n",
      "city not available\n",
      "Processing Record 375 | tetzoyocan\n",
      "Processing Record 376 | along\n",
      "Processing Record 377 | imeni poliny osipenko\n",
      "Processing Record 378 | fussen\n",
      "Processing Record 379 | letka\n",
      "Processing Record 380 | barra do corda\n",
      "Processing Record 381 | hokitika\n",
      "Processing Record 382 | guane\n",
      "Processing Record 383 | sibolga\n",
      "Processing Record 384 | sunyani\n",
      "Processing Record 385 | longyearbyen\n",
      "Processing Record 386 | vostok\n",
      "city not available\n",
      "Processing Record 387 | ahuimanu\n",
      "Processing Record 388 | tarazona\n",
      "Processing Record 389 | northam\n",
      "Processing Record 390 | vao\n",
      "Processing Record 391 | port-cartier\n",
      "Processing Record 392 | tigil\n",
      "city not available\n",
      "Processing Record 393 | floro\n",
      "Processing Record 394 | presque isle\n",
      "Processing Record 395 | shahreza\n",
      "Processing Record 396 | barkly west\n",
      "Processing Record 397 | sahibganj\n",
      "Processing Record 398 | esil\n",
      "Processing Record 399 | donskoye\n",
      "Processing Record 400 | verkhnyaya inta\n",
      "Processing Record 401 | mamallapuram\n",
      "city not available\n",
      "Processing Record 402 | aras\n",
      "city not available\n",
      "Processing Record 403 | merauke\n",
      "city not available\n",
      "Processing Record 404 | chiang klang\n",
      "Processing Record 405 | dunmore town\n",
      "Processing Record 406 | tim\n",
      "Processing Record 407 | namatanai\n",
      "Processing Record 408 | bonavista\n",
      "Processing Record 409 | bonthe\n",
      "Processing Record 410 | dalvik\n",
      "Processing Record 411 | gravdal\n",
      "Processing Record 412 | itarema\n",
      "Processing Record 413 | agadir\n",
      "Processing Record 414 | murakami\n",
      "Processing Record 415 | shimoda\n",
      "Processing Record 416 | aswan\n",
      "Processing Record 417 | skjervoy\n",
      "Processing Record 418 | saint george\n",
      "Processing Record 419 | saint-leu\n",
      "Processing Record 420 | hami\n",
      "Processing Record 421 | mersing\n",
      "Processing Record 422 | port shepstone\n",
      "Processing Record 423 | semenivka\n",
      "Processing Record 424 | burriana\n",
      "Processing Record 425 | asau\n",
      "Processing Record 426 | sabha\n",
      "Processing Record 427 | comodoro rivadavia\n",
      "Processing Record 428 | wuxue\n",
      "Processing Record 429 | geraldton\n",
      "Processing Record 430 | hammerfest\n",
      "Processing Record 431 | verkhnevilyuysk\n",
      "Processing Record 432 | moanda\n",
      "Processing Record 433 | san cristobal\n",
      "Processing Record 434 | udachnyy\n",
      "Processing Record 435 | nantucket\n",
      "Processing Record 436 | san quintin\n",
      "Processing Record 437 | tartagal\n",
      "Processing Record 438 | carson city\n",
      "Processing Record 439 | kolondieba\n",
      "Processing Record 440 | awassa\n",
      "Processing Record 441 | solwezi\n",
      "Processing Record 442 | rockhampton\n",
      "Processing Record 443 | nioro\n",
      "Processing Record 444 | neryungri\n",
      "Processing Record 445 | bengkulu\n",
      "Processing Record 446 | algiers\n",
      "Processing Record 447 | eyl\n",
      "Processing Record 448 | phek\n",
      "Processing Record 449 | portoviejo\n",
      "Processing Record 450 | akalgarh\n",
      "Processing Record 451 | songjianghe\n",
      "Processing Record 452 | havoysund\n",
      "city not available\n",
      "Processing Record 453 | nyurba\n",
      "Processing Record 454 | kupang\n",
      "Processing Record 455 | kirakira\n",
      "Processing Record 456 | peniche\n",
      "city not available\n",
      "Processing Record 457 | kyshtovka\n",
      "Processing Record 458 | edmundston\n",
      "Processing Record 459 | roxana\n",
      "Processing Record 460 | luena\n",
      "Processing Record 461 | cayenne\n",
      "city not available\n",
      "Processing Record 462 | paita\n",
      "Processing Record 463 | ukiah\n",
      "Processing Record 464 | namibe\n",
      "Processing Record 465 | tuatapere\n",
      "Processing Record 466 | wer\n",
      "Processing Record 467 | raga\n",
      "Processing Record 468 | kuroiso\n",
      "Processing Record 469 | lasa\n",
      "Processing Record 470 | bubaque\n",
      "Processing Record 471 | rawson\n"
     ]
    },
    {
     "name": "stdout",
     "output_type": "stream",
     "text": [
      "Processing Record 472 | fairlie\n",
      "Processing Record 473 | teguise\n",
      "Processing Record 474 | asadabad\n",
      "Processing Record 475 | samarai\n",
      "Processing Record 476 | kloulklubed\n",
      "Processing Record 477 | gizo\n",
      "Processing Record 478 | pitimbu\n",
      "Processing Record 479 | risod\n",
      "Processing Record 480 | kidodi\n",
      "Processing Record 481 | nanchong\n",
      "Processing Record 482 | kamenka\n",
      "Processing Record 483 | laem sing\n",
      "Processing Record 484 | ustyuzhna\n",
      "Processing Record 485 | lazaro cardenas\n",
      "Processing Record 486 | tromso\n",
      "Processing Record 487 | saint-joseph\n",
      "Processing Record 488 | gorele\n",
      "Processing Record 489 | aden\n",
      "Processing Record 490 | hobyo\n",
      "city not available\n",
      "Processing Record 491 | laguna de perlas\n",
      "Processing Record 492 | beira\n",
      "Processing Record 493 | marzuq\n",
      "Processing Record 494 | leua\n",
      "Processing Record 495 | nouakchott\n",
      "Processing Record 496 | port blair\n",
      "Processing Record 497 | ovre ardal\n",
      "Processing Record 498 | moundou\n",
      "Processing Record 499 | narsaq\n",
      "Processing Record 500 | taldan\n",
      "Processing Record 501 | missoula\n",
      "Processing Record 502 | mtwara\n",
      "Processing Record 503 | miracema do tocantins\n",
      "Processing Record 504 | cristalina\n",
      "Processing Record 505 | spruce grove\n",
      "Processing Record 506 | ndjole\n",
      "Processing Record 507 | coahuayana\n",
      "Processing Record 508 | oga\n",
      "Processing Record 509 | saskatoon\n",
      "Processing Record 510 | san andres\n",
      "city not available\n",
      "Processing Record 511 | abadiania\n",
      "Processing Record 512 | taltal\n",
      "Processing Record 513 | aleysk\n",
      "Processing Record 514 | jahazpur\n",
      "Processing Record 515 | tettnang\n",
      "Processing Record 516 | nokaneng\n",
      "Processing Record 517 | san juan\n",
      "Processing Record 518 | singaraja\n",
      "Processing Record 519 | luanda\n",
      "Processing Record 520 | allapalli\n",
      "Processing Record 521 | la rioja\n",
      "Processing Record 522 | camabatela\n",
      "Processing Record 523 | taree\n",
      "Processing Record 524 | kedrovyy\n",
      "Processing Record 525 | avezzano\n",
      "Processing Record 526 | tabas\n",
      "Processing Record 527 | katra\n",
      "Processing Record 528 | point pedro\n",
      "Processing Record 529 | miles city\n",
      "Processing Record 530 | mbandaka\n",
      "city not available\n",
      "Processing Record 531 | chicama\n",
      "Processing Record 532 | oranjemund\n",
      "Processing Record 533 | huanuco\n",
      "Processing Record 534 | kirovskiy\n",
      "Processing Record 535 | salalah\n",
      "Processing Record 536 | cockburn town\n",
      "Processing Record 537 | nhulunbuy\n",
      "Processing Record 538 | knysna\n",
      "city not available\n",
      "Processing Record 539 | mount gambier\n",
      "Processing Record 540 | harper\n",
      "Processing Record 541 | kattivakkam\n",
      "Processing Record 542 | adrar\n",
      "Processing Record 543 | tautira\n",
      "Processing Record 544 | wenling\n",
      "Processing Record 545 | katsuura\n",
      "Processing Record 546 | yarmouth\n",
      "Processing Record 547 | wajid\n",
      "Processing Record 548 | aklavik\n",
      "Processing Record 549 | bilma\n",
      "Processing Record 550 | oxelosund\n",
      "Processing Record 551 | manicore\n",
      "Processing Record 552 | malgrat de mar\n",
      "Processing Record 553 | tias\n",
      "Processing Record 554 | los llanos de aridane\n",
      "Processing Record 555 | lata\n",
      "Processing Record 556 | hare bay\n",
      "city not available\n",
      "Processing Record 557 | ancud\n",
      "Processing Record 558 | mengcheng\n",
      "Processing Record 559 | aksum\n",
      "Processing Record 560 | teeli\n",
      "Processing Record 561 | kodinsk\n",
      "Processing Record 562 | mount isa\n"
     ]
    }
   ],
   "source": [
    "url = \"http://api.openweathermap.org/data/2.5/weather?\"\n",
    "units = \"metric\"\n",
    "lat=[]\n",
    "lng =[]\n",
    "Max_temp =[]\n",
    "Humidity =[]\n",
    "Cloudiness = []\n",
    "Wind_Speed =[]\n",
    "Country =[]\n",
    "date =[]\n",
    "city_name=[]\n",
    "\n",
    "record = 1\n",
    "# Build partial query URL\n",
    "query_url = f\"{url}appid={weather_api_key}&units={units}&q=\"\n",
    "for city in cities:\n",
    "    try:\n",
    "        response = requests.get(query_url + city).json()\n",
    "        lat.append(response['coord']['lat'])\n",
    "        lng.append(response['coord']['lon'])\n",
    "        Max_temp.append(response['main']['temp_max'])\n",
    "        Humidity.append(response['main']['humidity'])\n",
    "        Cloudiness.append(response['clouds']['all'])\n",
    "        Wind_Speed.append(response['wind']['speed'])\n",
    "        Country.append(response['sys']['country'])\n",
    "        date.append(response['dt'])\n",
    "        city_name.append(response['name'])\n",
    "        print(f'Processing Record {record} | {city}')\n",
    "        record= record +1\n",
    "    except KeyError:\n",
    "        print(\"city not available\")\n",
    "                        \n",
    "                     \n",
    "\n",
    "  \n",
    "#print(json.dumps(response,indent=4,sort_keys=True))\n",
    "\n",
    "\n"
   ]
  },
  {
   "cell_type": "markdown",
   "metadata": {},
   "source": [
    "### Convert Raw Data to DataFrame\n",
    "* Export the city data into a .csv.\n",
    "* Display the DataFrame"
   ]
  },
  {
   "cell_type": "code",
   "execution_count": 96,
   "metadata": {
    "scrolled": true
   },
   "outputs": [
    {
     "data": {
      "text/html": [
       "<div>\n",
       "<style scoped>\n",
       "    .dataframe tbody tr th:only-of-type {\n",
       "        vertical-align: middle;\n",
       "    }\n",
       "\n",
       "    .dataframe tbody tr th {\n",
       "        vertical-align: top;\n",
       "    }\n",
       "\n",
       "    .dataframe thead th {\n",
       "        text-align: right;\n",
       "    }\n",
       "</style>\n",
       "<table border=\"1\" class=\"dataframe\">\n",
       "  <thead>\n",
       "    <tr style=\"text-align: right;\">\n",
       "      <th></th>\n",
       "      <th>city</th>\n",
       "      <th>lat</th>\n",
       "      <th>lng</th>\n",
       "      <th>Max_Temp</th>\n",
       "      <th>Humidity</th>\n",
       "      <th>Cloudiness</th>\n",
       "      <th>Wind Speed</th>\n",
       "      <th>Country</th>\n",
       "      <th>date</th>\n",
       "    </tr>\n",
       "  </thead>\n",
       "  <tbody>\n",
       "    <tr>\n",
       "      <th>0</th>\n",
       "      <td>Hamilton</td>\n",
       "      <td>39.1834</td>\n",
       "      <td>-84.5333</td>\n",
       "      <td>16.11</td>\n",
       "      <td>41</td>\n",
       "      <td>90</td>\n",
       "      <td>5.14</td>\n",
       "      <td>US</td>\n",
       "      <td>1619207506</td>\n",
       "    </tr>\n",
       "    <tr>\n",
       "      <th>1</th>\n",
       "      <td>Busselton</td>\n",
       "      <td>-33.6500</td>\n",
       "      <td>115.3333</td>\n",
       "      <td>17.22</td>\n",
       "      <td>72</td>\n",
       "      <td>99</td>\n",
       "      <td>1.34</td>\n",
       "      <td>AU</td>\n",
       "      <td>1619207780</td>\n",
       "    </tr>\n",
       "    <tr>\n",
       "      <th>2</th>\n",
       "      <td>Ahipara</td>\n",
       "      <td>-35.1667</td>\n",
       "      <td>173.1667</td>\n",
       "      <td>16.74</td>\n",
       "      <td>79</td>\n",
       "      <td>45</td>\n",
       "      <td>4.45</td>\n",
       "      <td>NZ</td>\n",
       "      <td>1619207620</td>\n",
       "    </tr>\n",
       "    <tr>\n",
       "      <th>3</th>\n",
       "      <td>Ormara</td>\n",
       "      <td>25.2088</td>\n",
       "      <td>64.6357</td>\n",
       "      <td>27.46</td>\n",
       "      <td>76</td>\n",
       "      <td>0</td>\n",
       "      <td>5.14</td>\n",
       "      <td>PK</td>\n",
       "      <td>1619207780</td>\n",
       "    </tr>\n",
       "    <tr>\n",
       "      <th>4</th>\n",
       "      <td>Beaufort</td>\n",
       "      <td>5.3473</td>\n",
       "      <td>115.7455</td>\n",
       "      <td>27.00</td>\n",
       "      <td>89</td>\n",
       "      <td>20</td>\n",
       "      <td>1.25</td>\n",
       "      <td>MY</td>\n",
       "      <td>1619207781</td>\n",
       "    </tr>\n",
       "  </tbody>\n",
       "</table>\n",
       "</div>"
      ],
      "text/plain": [
       "        city      lat       lng  Max_Temp  Humidity  Cloudiness  Wind Speed  \\\n",
       "0   Hamilton  39.1834  -84.5333     16.11        41          90        5.14   \n",
       "1  Busselton -33.6500  115.3333     17.22        72          99        1.34   \n",
       "2    Ahipara -35.1667  173.1667     16.74        79          45        4.45   \n",
       "3     Ormara  25.2088   64.6357     27.46        76           0        5.14   \n",
       "4   Beaufort   5.3473  115.7455     27.00        89          20        1.25   \n",
       "\n",
       "  Country        date  \n",
       "0      US  1619207506  \n",
       "1      AU  1619207780  \n",
       "2      NZ  1619207620  \n",
       "3      PK  1619207780  \n",
       "4      MY  1619207781  "
      ]
     },
     "execution_count": 96,
     "metadata": {},
     "output_type": "execute_result"
    }
   ],
   "source": [
    "weather_dict = {\n",
    "    \"city\": city_name,\n",
    "    \"lat\": lat,\n",
    "    \"lng\": lng,\n",
    "    \"Max_Temp\":Max_temp,\n",
    "    \"Humidity\":Humidity,\n",
    "    \"Cloudiness\":Cloudiness,\n",
    "    \"Wind Speed\":Wind_Speed,\n",
    "    \"Country\":Country,\n",
    "    \"date\":date   \n",
    "\n",
    "}\n",
    "weather_data = pd.DataFrame(weather_dict)\n",
    "weather_data.head()"
   ]
  },
  {
   "cell_type": "code",
   "execution_count": 97,
   "metadata": {},
   "outputs": [
    {
     "data": {
      "text/plain": [
       "city          562\n",
       "lat           562\n",
       "lng           562\n",
       "Max_Temp      562\n",
       "Humidity      562\n",
       "Cloudiness    562\n",
       "Wind Speed    562\n",
       "Country       562\n",
       "date          562\n",
       "dtype: int64"
      ]
     },
     "execution_count": 97,
     "metadata": {},
     "output_type": "execute_result"
    }
   ],
   "source": [
    "weather_data.count()"
   ]
  },
  {
   "cell_type": "code",
   "execution_count": 98,
   "metadata": {},
   "outputs": [],
   "source": [
    "weather_data.to_csv(\"weather_data.csv\", encoding=\"utf-8\", index=False)"
   ]
  },
  {
   "cell_type": "code",
   "execution_count": 99,
   "metadata": {},
   "outputs": [
    {
     "data": {
      "text/plain": [
       "city           object\n",
       "lat           float64\n",
       "lng           float64\n",
       "Max_Temp      float64\n",
       "Humidity        int64\n",
       "Cloudiness      int64\n",
       "Wind Speed    float64\n",
       "Country        object\n",
       "date            int64\n",
       "dtype: object"
      ]
     },
     "execution_count": 99,
     "metadata": {},
     "output_type": "execute_result"
    }
   ],
   "source": [
    "weather_data.dtypes"
   ]
  },
  {
   "cell_type": "markdown",
   "metadata": {},
   "source": [
    "## Inspect the data and remove the cities where the humidity > 100%.\n",
    "----\n",
    "Skip this step if there are no cities that have humidity > 100%. "
   ]
  },
  {
   "cell_type": "code",
   "execution_count": 100,
   "metadata": {},
   "outputs": [],
   "source": [
    "# there is no city where humiity is more than 100 % ion my weather data set"
   ]
  },
  {
   "cell_type": "code",
   "execution_count": 101,
   "metadata": {},
   "outputs": [
    {
     "data": {
      "text/html": [
       "<div>\n",
       "<style scoped>\n",
       "    .dataframe tbody tr th:only-of-type {\n",
       "        vertical-align: middle;\n",
       "    }\n",
       "\n",
       "    .dataframe tbody tr th {\n",
       "        vertical-align: top;\n",
       "    }\n",
       "\n",
       "    .dataframe thead th {\n",
       "        text-align: right;\n",
       "    }\n",
       "</style>\n",
       "<table border=\"1\" class=\"dataframe\">\n",
       "  <thead>\n",
       "    <tr style=\"text-align: right;\">\n",
       "      <th></th>\n",
       "      <th>city</th>\n",
       "      <th>lat</th>\n",
       "      <th>lng</th>\n",
       "      <th>Max_Temp</th>\n",
       "      <th>Humidity</th>\n",
       "      <th>Cloudiness</th>\n",
       "      <th>Wind Speed</th>\n",
       "      <th>Country</th>\n",
       "      <th>date</th>\n",
       "    </tr>\n",
       "  </thead>\n",
       "  <tbody>\n",
       "  </tbody>\n",
       "</table>\n",
       "</div>"
      ],
      "text/plain": [
       "Empty DataFrame\n",
       "Columns: [city, lat, lng, Max_Temp, Humidity, Cloudiness, Wind Speed, Country, date]\n",
       "Index: []"
      ]
     },
     "execution_count": 101,
     "metadata": {},
     "output_type": "execute_result"
    }
   ],
   "source": [
    "#  Get the indices of cities that have humidity over 100%.\n",
    "weather_data[weather_data.Humidity > 100]"
   ]
  },
  {
   "cell_type": "code",
   "execution_count": 102,
   "metadata": {},
   "outputs": [],
   "source": [
    "# Make a new DataFrame equal to the city data to drop all humidity outliers by index.\n",
    "# Passing \"inplace=False\" will make a copy of the city_data DataFrame, which we call \"clean_city_data\".\n"
   ]
  },
  {
   "cell_type": "markdown",
   "metadata": {},
   "source": [
    "## Plotting the Data\n",
    "* Use proper labeling of the plots using plot titles (including date of analysis) and axes labels.\n",
    "* Save the plotted figures as .pngs."
   ]
  },
  {
   "cell_type": "markdown",
   "metadata": {},
   "source": [
    "## Latitude vs. Temperature Plot"
   ]
  },
  {
   "cell_type": "code",
   "execution_count": 122,
   "metadata": {
    "scrolled": true
   },
   "outputs": [
    {
     "data": {
      "image/png": "[encoded data removed]",
      "text/plain": [
       "<Figure size 432x288 with 1 Axes>"
      ]
     },
     "metadata": {
      "needs_background": "light"
     },
     "output_type": "display_data"
    }
   ],
   "source": [
    "\n",
    "plt.scatter(weather_data[\"lat\"], weather_data[\"Max_Temp\"], marker=\"o\", facecolors=\"red\", edgecolors=\"black\")\n",
    "plt.title(\"City Latitude VS Max Temperature (04/21/2021)\")\n",
    "plt.xlabel(\"Latitude\")\n",
    "plt.ylabel(\"Max Temperature()\")\n",
    "plt.savefig(\"../Images/LatVsTemp.png\")\n",
    "plt.show()"
   ]
  },
  {
   "cell_type": "markdown",
   "metadata": {},
   "source": [
    "## Latitude vs. Humidity Plot"
   ]
  },
  {
   "cell_type": "code",
   "execution_count": 123,
   "metadata": {},
   "outputs": [
    {
     "data": {
      "image/png": "[encoded data removed]",
      "text/plain": [
       "<Figure size 432x288 with 1 Axes>"
      ]
     },
     "metadata": {
      "needs_background": "light"
     },
     "output_type": "display_data"
    }
   ],
   "source": [
    "plt.scatter(weather_data[\"lat\"], weather_data[\"Humidity\"], marker=\"o\", facecolors=\"red\", edgecolors=\"black\")\n",
    "plt.title(\"City Latitude VS Humidity (04/21/2021)\")\n",
    "plt.xlabel(\"Latitude\")\n",
    "plt.ylabel(\"Humidity (%)\")\n",
    "plt.savefig(\"../Images/LatVsHumidity.png\")\n",
    "plt.show()"
   ]
  },
  {
   "cell_type": "markdown",
   "metadata": {},
   "source": [
    "## Latitude vs. Cloudiness Plot"
   ]
  },
  {
   "cell_type": "code",
   "execution_count": 124,
   "metadata": {},
   "outputs": [
    {
     "data": {
      "image/png": "[encoded data removed]",
      "text/plain": [
       "<Figure size 432x288 with 1 Axes>"
      ]
     },
     "metadata": {
      "needs_background": "light"
     },
     "output_type": "display_data"
    }
   ],
   "source": [
    "plt.scatter(weather_data[\"lat\"], weather_data[\"Cloudiness\"], marker=\"o\", facecolors=\"red\", edgecolors=\"black\")\n",
    "plt.title(\"City Latitude VS Cloudiness (04/21/2021)\")\n",
    "plt.xlabel(\"Latitude\")\n",
    "plt.ylabel(\"Cloudiness (%)\")\n",
    "plt.savefig(\"../Images/LatVsCloudiness.png\")\n",
    "plt.show()"
   ]
  },
  {
   "cell_type": "markdown",
   "metadata": {},
   "source": [
    "## Latitude vs. Wind Speed Plot"
   ]
  },
  {
   "cell_type": "code",
   "execution_count": 125,
   "metadata": {},
   "outputs": [
    {
     "data": {
      "image/png": "[encoded data removed]",
      "text/plain": [
       "<Figure size 432x288 with 1 Axes>"
      ]
     },
     "metadata": {
      "needs_background": "light"
     },
     "output_type": "display_data"
    }
   ],
   "source": [
    "plt.scatter(weather_data[\"lat\"], weather_data[\"Wind Speed\"], marker=\"o\", facecolors=\"red\", edgecolors=\"black\")\n",
    "plt.title(\"City Latitude VS Wind Speed (04/21/2021)\")\n",
    "plt.xlabel(\"Latitude\")\n",
    "plt.ylabel(\"Wind Speed (kmph)\")\n",
    "plt.savefig(\"../Images/LatVsWindSpeed.png\")\n",
    "plt.show()"
   ]
  },
  {
   "cell_type": "markdown",
   "metadata": {},
   "source": [
    "## Linear Regression"
   ]
  },
  {
   "cell_type": "code",
   "execution_count": 126,
   "metadata": {},
   "outputs": [
    {
     "data": {
      "text/html": [
       "<div>\n",
       "<style scoped>\n",
       "    .dataframe tbody tr th:only-of-type {\n",
       "        vertical-align: middle;\n",
       "    }\n",
       "\n",
       "    .dataframe tbody tr th {\n",
       "        vertical-align: top;\n",
       "    }\n",
       "\n",
       "    .dataframe thead th {\n",
       "        text-align: right;\n",
       "    }\n",
       "</style>\n",
       "<table border=\"1\" class=\"dataframe\">\n",
       "  <thead>\n",
       "    <tr style=\"text-align: right;\">\n",
       "      <th></th>\n",
       "      <th>city</th>\n",
       "      <th>lat</th>\n",
       "      <th>lng</th>\n",
       "      <th>Max_Temp</th>\n",
       "      <th>Humidity</th>\n",
       "      <th>Cloudiness</th>\n",
       "      <th>Wind Speed</th>\n",
       "      <th>Country</th>\n",
       "      <th>date</th>\n",
       "    </tr>\n",
       "  </thead>\n",
       "  <tbody>\n",
       "    <tr>\n",
       "      <th>0</th>\n",
       "      <td>Hamilton</td>\n",
       "      <td>39.1834</td>\n",
       "      <td>-84.5333</td>\n",
       "      <td>16.11</td>\n",
       "      <td>41</td>\n",
       "      <td>90</td>\n",
       "      <td>5.14</td>\n",
       "      <td>US</td>\n",
       "      <td>1619207506</td>\n",
       "    </tr>\n",
       "    <tr>\n",
       "      <th>3</th>\n",
       "      <td>Ormara</td>\n",
       "      <td>25.2088</td>\n",
       "      <td>64.6357</td>\n",
       "      <td>27.46</td>\n",
       "      <td>76</td>\n",
       "      <td>0</td>\n",
       "      <td>5.14</td>\n",
       "      <td>PK</td>\n",
       "      <td>1619207780</td>\n",
       "    </tr>\n",
       "    <tr>\n",
       "      <th>4</th>\n",
       "      <td>Beaufort</td>\n",
       "      <td>5.3473</td>\n",
       "      <td>115.7455</td>\n",
       "      <td>27.00</td>\n",
       "      <td>89</td>\n",
       "      <td>20</td>\n",
       "      <td>1.25</td>\n",
       "      <td>MY</td>\n",
       "      <td>1619207781</td>\n",
       "    </tr>\n",
       "    <tr>\n",
       "      <th>5</th>\n",
       "      <td>Ust-Kuyga</td>\n",
       "      <td>70.0167</td>\n",
       "      <td>135.6000</td>\n",
       "      <td>-21.34</td>\n",
       "      <td>99</td>\n",
       "      <td>100</td>\n",
       "      <td>1.47</td>\n",
       "      <td>RU</td>\n",
       "      <td>1619207781</td>\n",
       "    </tr>\n",
       "    <tr>\n",
       "      <th>8</th>\n",
       "      <td>Grindavik</td>\n",
       "      <td>63.8424</td>\n",
       "      <td>-22.4338</td>\n",
       "      <td>8.00</td>\n",
       "      <td>87</td>\n",
       "      <td>90</td>\n",
       "      <td>8.23</td>\n",
       "      <td>IS</td>\n",
       "      <td>1619207782</td>\n",
       "    </tr>\n",
       "  </tbody>\n",
       "</table>\n",
       "</div>"
      ],
      "text/plain": [
       "        city      lat       lng  Max_Temp  Humidity  Cloudiness  Wind Speed  \\\n",
       "0   Hamilton  39.1834  -84.5333     16.11        41          90        5.14   \n",
       "3     Ormara  25.2088   64.6357     27.46        76           0        5.14   \n",
       "4   Beaufort   5.3473  115.7455     27.00        89          20        1.25   \n",
       "5  Ust-Kuyga  70.0167  135.6000    -21.34        99         100        1.47   \n",
       "8  Grindavik  63.8424  -22.4338      8.00        87          90        8.23   \n",
       "\n",
       "  Country        date  \n",
       "0      US  1619207506  \n",
       "3      PK  1619207780  \n",
       "4      MY  1619207781  \n",
       "5      RU  1619207781  \n",
       "8      IS  1619207782  "
      ]
     },
     "execution_count": 126,
     "metadata": {},
     "output_type": "execute_result"
    }
   ],
   "source": [
    "north_hemi = weather_data[weather_data[\"lat\"]>0]\n",
    "north_hemi.head()"
   ]
  },
  {
   "cell_type": "code",
   "execution_count": 127,
   "metadata": {},
   "outputs": [
    {
     "data": {
      "text/html": [
       "<div>\n",
       "<style scoped>\n",
       "    .dataframe tbody tr th:only-of-type {\n",
       "        vertical-align: middle;\n",
       "    }\n",
       "\n",
       "    .dataframe tbody tr th {\n",
       "        vertical-align: top;\n",
       "    }\n",
       "\n",
       "    .dataframe thead th {\n",
       "        text-align: right;\n",
       "    }\n",
       "</style>\n",
       "<table border=\"1\" class=\"dataframe\">\n",
       "  <thead>\n",
       "    <tr style=\"text-align: right;\">\n",
       "      <th></th>\n",
       "      <th>city</th>\n",
       "      <th>lat</th>\n",
       "      <th>lng</th>\n",
       "      <th>Max_Temp</th>\n",
       "      <th>Humidity</th>\n",
       "      <th>Cloudiness</th>\n",
       "      <th>Wind Speed</th>\n",
       "      <th>Country</th>\n",
       "      <th>date</th>\n",
       "    </tr>\n",
       "  </thead>\n",
       "  <tbody>\n",
       "    <tr>\n",
       "      <th>1</th>\n",
       "      <td>Busselton</td>\n",
       "      <td>-33.6500</td>\n",
       "      <td>115.3333</td>\n",
       "      <td>17.22</td>\n",
       "      <td>72</td>\n",
       "      <td>99</td>\n",
       "      <td>1.34</td>\n",
       "      <td>AU</td>\n",
       "      <td>1619207780</td>\n",
       "    </tr>\n",
       "    <tr>\n",
       "      <th>2</th>\n",
       "      <td>Ahipara</td>\n",
       "      <td>-35.1667</td>\n",
       "      <td>173.1667</td>\n",
       "      <td>16.74</td>\n",
       "      <td>79</td>\n",
       "      <td>45</td>\n",
       "      <td>4.45</td>\n",
       "      <td>NZ</td>\n",
       "      <td>1619207620</td>\n",
       "    </tr>\n",
       "    <tr>\n",
       "      <th>6</th>\n",
       "      <td>Hervey Bay</td>\n",
       "      <td>-25.2986</td>\n",
       "      <td>152.8535</td>\n",
       "      <td>15.56</td>\n",
       "      <td>77</td>\n",
       "      <td>74</td>\n",
       "      <td>3.60</td>\n",
       "      <td>AU</td>\n",
       "      <td>1619207781</td>\n",
       "    </tr>\n",
       "    <tr>\n",
       "      <th>7</th>\n",
       "      <td>Mataura</td>\n",
       "      <td>-46.1927</td>\n",
       "      <td>168.8643</td>\n",
       "      <td>6.67</td>\n",
       "      <td>96</td>\n",
       "      <td>43</td>\n",
       "      <td>1.79</td>\n",
       "      <td>NZ</td>\n",
       "      <td>1619207781</td>\n",
       "    </tr>\n",
       "    <tr>\n",
       "      <th>9</th>\n",
       "      <td>Constitución</td>\n",
       "      <td>-35.3333</td>\n",
       "      <td>-72.4167</td>\n",
       "      <td>16.48</td>\n",
       "      <td>62</td>\n",
       "      <td>0</td>\n",
       "      <td>4.39</td>\n",
       "      <td>CL</td>\n",
       "      <td>1619207682</td>\n",
       "    </tr>\n",
       "  </tbody>\n",
       "</table>\n",
       "</div>"
      ],
      "text/plain": [
       "           city      lat       lng  Max_Temp  Humidity  Cloudiness  \\\n",
       "1     Busselton -33.6500  115.3333     17.22        72          99   \n",
       "2       Ahipara -35.1667  173.1667     16.74        79          45   \n",
       "6    Hervey Bay -25.2986  152.8535     15.56        77          74   \n",
       "7       Mataura -46.1927  168.8643      6.67        96          43   \n",
       "9  Constitución -35.3333  -72.4167     16.48        62           0   \n",
       "\n",
       "   Wind Speed Country        date  \n",
       "1        1.34      AU  1619207780  \n",
       "2        4.45      NZ  1619207620  \n",
       "6        3.60      AU  1619207781  \n",
       "7        1.79      NZ  1619207781  \n",
       "9        4.39      CL  1619207682  "
      ]
     },
     "execution_count": 127,
     "metadata": {},
     "output_type": "execute_result"
    }
   ],
   "source": [
    "south_hemi = weather_data[weather_data[\"lat\"]<0]\n",
    "\n",
    "south_hemi.head()"
   ]
  },
  {
   "cell_type": "markdown",
   "metadata": {},
   "source": [
    "####  Northern Hemisphere - Max Temp vs. Latitude Linear Regression"
   ]
  },
  {
   "cell_type": "code",
   "execution_count": 128,
   "metadata": {},
   "outputs": [
    {
     "data": {
      "image/png": "[encoded data removed]",
      "text/plain": [
       "<Figure size 432x288 with 1 Axes>"
      ]
     },
     "metadata": {
      "needs_background": "light"
     },
     "output_type": "display_data"
    },
    {
     "name": "stdout",
     "output_type": "stream",
     "text": [
      "The R-Value is :-0.8776936107719568\n"
     ]
    }
   ],
   "source": [
    "x_values = north_hemi['lat']\n",
    "y_values = north_hemi['Max_Temp']\n",
    "(slope, intercept, rvalue, pvalue, stderr) = linregress(x_values, y_values)\n",
    "regress_values = x_values * slope + intercept\n",
    "line_eq = \"y = \" + str(round(slope,2)) + \"x + \" + str(round(intercept,2))\n",
    "plt.scatter(x_values,y_values)\n",
    "plt.plot(x_values,regress_values,\"r-\")\n",
    "plt.annotate(line_eq,(6,10),fontsize=15,color=\"red\")\n",
    "plt.xlabel('Latitude')\n",
    "plt.ylabel('Max Temp in Celcius')\n",
    "plt.savefig(\"../Images/NorthernHemisphere-Max TempvsLatitude.png\")\n",
    "plt.show()\n",
    "print(\"The R-Value is :\" + str(rvalue) )"
   ]
  },
  {
   "cell_type": "markdown",
   "metadata": {},
   "source": [
    "####  Southern Hemisphere - Max Temp vs. Latitude Linear Regression"
   ]
  },
  {
   "cell_type": "code",
   "execution_count": 129,
   "metadata": {},
   "outputs": [
    {
     "data": {
      "image/png": "[encoded data removed]",
      "text/plain": [
       "<Figure size 432x288 with 1 Axes>"
      ]
     },
     "metadata": {
      "needs_background": "light"
     },
     "output_type": "display_data"
    },
    {
     "name": "stdout",
     "output_type": "stream",
     "text": [
      "The R-Value is :0.7387728062238237\n"
     ]
    }
   ],
   "source": [
    "x_values = south_hemi['lat']\n",
    "y_values = south_hemi['Max_Temp']\n",
    "(slope, intercept, rvalue, pvalue, stderr) = linregress(x_values, y_values)\n",
    "regress_values = x_values * slope + intercept\n",
    "line_eq = \"y = \" + str(round(slope,2)) + \"x + \" + str(round(intercept,2))\n",
    "plt.scatter(x_values,y_values)\n",
    "plt.plot(x_values,regress_values,\"r-\")\n",
    "plt.annotate(line_eq,(6,10),fontsize=15,color=\"red\")\n",
    "plt.xlabel('Latitude')\n",
    "plt.ylabel('Max Temp in Celcius')\n",
    "plt.savefig(\"../Images/SoputhernHemisphere-Max TempvsLatitude.png\")\n",
    "plt.show()\n",
    "print(\"The R-Value is :\" + str(rvalue) )"
   ]
  },
  {
   "cell_type": "markdown",
   "metadata": {},
   "source": [
    "####  Northern Hemisphere - Humidity (%) vs. Latitude Linear Regression"
   ]
  },
  {
   "cell_type": "code",
   "execution_count": 130,
   "metadata": {},
   "outputs": [
    {
     "data": {
      "image/png": "[encoded data removed]",
      "text/plain": [
       "<Figure size 432x288 with 1 Axes>"
      ]
     },
     "metadata": {
      "needs_background": "light"
     },
     "output_type": "display_data"
    },
    {
     "name": "stdout",
     "output_type": "stream",
     "text": [
      "The R-Value is :0.12603376994753357\n"
     ]
    }
   ],
   "source": [
    "x_values = north_hemi['lat']\n",
    "y_values = north_hemi['Humidity']\n",
    "(slope, intercept, rvalue, pvalue, stderr) = linregress(x_values, y_values)\n",
    "regress_values = x_values * slope + intercept\n",
    "line_eq = \"y = \" + str(round(slope,2)) + \"x + \" + str(round(intercept,2))\n",
    "plt.scatter(x_values,y_values)\n",
    "plt.plot(x_values,regress_values,\"r-\")\n",
    "plt.annotate(line_eq,(6,10),fontsize=15,color=\"red\")\n",
    "plt.xlabel('Latitude')\n",
    "plt.ylabel('Humidity(%)')\n",
    "plt.savefig(\"../Images/NorthernHemisphere-HumidityvsLatitude.png\")\n",
    "plt.show()\n",
    "print(\"The R-Value is :\" + str(rvalue) )"
   ]
  },
  {
   "cell_type": "markdown",
   "metadata": {},
   "source": [
    "####  Southern Hemisphere - Humidity (%) vs. Latitude Linear Regression"
   ]
  },
  {
   "cell_type": "code",
   "execution_count": 131,
   "metadata": {},
   "outputs": [
    {
     "data": {
      "image/png": "[encoded data removed]",
      "text/plain": [
       "<Figure size 432x288 with 1 Axes>"
      ]
     },
     "metadata": {
      "needs_background": "light"
     },
     "output_type": "display_data"
    },
    {
     "name": "stdout",
     "output_type": "stream",
     "text": [
      "The R-Value is :0.046366556654136346\n"
     ]
    }
   ],
   "source": [
    "x_values = south_hemi['lat']\n",
    "y_values = south_hemi['Humidity']\n",
    "(slope, intercept, rvalue, pvalue, stderr) = linregress(x_values, y_values)\n",
    "regress_values = x_values * slope + intercept\n",
    "line_eq = \"y = \" + str(round(slope,2)) + \"x + \" + str(round(intercept,2))\n",
    "plt.scatter(x_values,y_values)\n",
    "plt.plot(x_values,regress_values,\"r-\")\n",
    "plt.annotate(line_eq,(6,10),fontsize=15,color=\"red\")\n",
    "plt.xlabel('Latitude')\n",
    "plt.ylabel('Humidity(%)')\n",
    "plt.savefig(\"../Images/southernernHemisphere-HumidityvsLatitude.png\")\n",
    "plt.show()\n",
    "print(\"The R-Value is :\" + str(rvalue) )"
   ]
  },
  {
   "cell_type": "markdown",
   "metadata": {},
   "source": [
    "####  Northern Hemisphere - Cloudiness (%) vs. Latitude Linear Regression"
   ]
  },
  {
   "cell_type": "code",
   "execution_count": 132,
   "metadata": {},
   "outputs": [
    {
     "data": {
      "image/png": "[encoded data removed]",
      "text/plain": [
       "<Figure size 432x288 with 1 Axes>"
      ]
     },
     "metadata": {
      "needs_background": "light"
     },
     "output_type": "display_data"
    },
    {
     "name": "stdout",
     "output_type": "stream",
     "text": [
      "The R-Value is :0.020743247098382236\n"
     ]
    }
   ],
   "source": [
    "x_values = north_hemi['lat']\n",
    "y_values = north_hemi['Cloudiness']\n",
    "(slope, intercept, rvalue, pvalue, stderr) = linregress(x_values, y_values)\n",
    "regress_values = x_values * slope + intercept\n",
    "line_eq = \"y = \" + str(round(slope,2)) + \"x + \" + str(round(intercept,2))\n",
    "plt.scatter(x_values,y_values)\n",
    "plt.plot(x_values,regress_values,\"r-\")\n",
    "plt.annotate(line_eq,(6,10),fontsize=15,color=\"red\")\n",
    "plt.xlabel('Latitude')\n",
    "plt.ylabel('Cloudiness(%)')\n",
    "plt.savefig(\"../Images/NorthernHemisphere-cloudinessvsLatitude.png\")\n",
    "plt.show()\n",
    "print(\"The R-Value is :\" + str(rvalue) )"
   ]
  },
  {
   "cell_type": "markdown",
   "metadata": {},
   "source": [
    "####  Southern Hemisphere - Cloudiness (%) vs. Latitude Linear Regression"
   ]
  },
  {
   "cell_type": "code",
   "execution_count": 133,
   "metadata": {},
   "outputs": [
    {
     "data": {
      "image/png": "[encoded data removed]",
      "text/plain": [
       "<Figure size 432x288 with 1 Axes>"
      ]
     },
     "metadata": {
      "needs_background": "light"
     },
     "output_type": "display_data"
    },
    {
     "name": "stdout",
     "output_type": "stream",
     "text": [
      "The R-Value is :0.17100115990247872\n"
     ]
    }
   ],
   "source": [
    "x_values = south_hemi['lat']\n",
    "y_values = south_hemi['Cloudiness']\n",
    "(slope, intercept, rvalue, pvalue, stderr) = linregress(x_values, y_values)\n",
    "regress_values = x_values * slope + intercept\n",
    "line_eq = \"y = \" + str(round(slope,2)) + \"x + \" + str(round(intercept,2))\n",
    "plt.scatter(x_values,y_values)\n",
    "plt.plot(x_values,regress_values,\"r-\")\n",
    "plt.annotate(line_eq,(6,10),fontsize=15,color=\"red\")\n",
    "plt.xlabel('Latitude')\n",
    "plt.ylabel('Cloudiness(%)')\n",
    "plt.ylabel('Cloudiness(%)')\n",
    "plt.savefig(\"../Images/SouthernHemisphere-cloudinessvsLatitude.png\")\n",
    "plt.show()\n",
    "print(\"The R-Value is :\" + str(rvalue) )"
   ]
  },
  {
   "cell_type": "markdown",
   "metadata": {},
   "source": [
    "####  Northern Hemisphere - Wind Speed (mph) vs. Latitude Linear Regression"
   ]
  },
  {
   "cell_type": "code",
   "execution_count": 134,
   "metadata": {},
   "outputs": [
    {
     "data": {
      "image/png": "[encoded data removed]",
      "text/plain": [
       "<Figure size 432x288 with 1 Axes>"
      ]
     },
     "metadata": {
      "needs_background": "light"
     },
     "output_type": "display_data"
    },
    {
     "name": "stdout",
     "output_type": "stream",
     "text": [
      "The R-Value is :-0.011095592482023582\n"
     ]
    }
   ],
   "source": [
    "x_values = north_hemi['lat']\n",
    "y_values = north_hemi['Wind Speed']\n",
    "(slope, intercept, rvalue, pvalue, stderr) = linregress(x_values, y_values)\n",
    "regress_values = x_values * slope + intercept\n",
    "line_eq = \"y = \" + str(round(slope,2)) + \"x + \" + str(round(intercept,2))\n",
    "plt.scatter(x_values,y_values)\n",
    "plt.plot(x_values,regress_values,\"r-\")\n",
    "plt.annotate(line_eq,(6,10),fontsize=15,color=\"red\")\n",
    "plt.xlabel('Latitude')\n",
    "plt.ylabel('Wind Speed')\n",
    "plt.savefig(\"../Images/NorthernHemisphere-windspeedvsLatitude.png\")\n",
    "plt.show()\n",
    "print(\"The R-Value is :\" + str(rvalue) )"
   ]
  },
  {
   "cell_type": "markdown",
   "metadata": {},
   "source": [
    "####  Southern Hemisphere - Wind Speed (mph) vs. Latitude Linear Regression"
   ]
  },
  {
   "cell_type": "code",
   "execution_count": 135,
   "metadata": {},
   "outputs": [
    {
     "data": {
      "image/png": "[encoded data removed]",
      "text/plain": [
       "<Figure size 432x288 with 1 Axes>"
      ]
     },
     "metadata": {
      "needs_background": "light"
     },
     "output_type": "display_data"
    },
    {
     "name": "stdout",
     "output_type": "stream",
     "text": [
      "The R-Value is :-0.04074288495481848\n"
     ]
    }
   ],
   "source": [
    "x_values = south_hemi['lat']\n",
    "y_values = south_hemi['Wind Speed']\n",
    "(slope, intercept, rvalue, pvalue, stderr) = linregress(x_values, y_values)\n",
    "regress_values = x_values * slope + intercept\n",
    "line_eq = \"y = \" + str(round(slope,2)) + \"x + \" + str(round(intercept,2))\n",
    "plt.scatter(x_values,y_values)\n",
    "plt.plot(x_values,regress_values,\"r-\")\n",
    "plt.annotate(line_eq,(6,10),fontsize=15,color=\"red\")\n",
    "plt.xlabel('Latitude')\n",
    "plt.ylabel('Wind Speed')\n",
    "plt.savefig(\"../Images/SouthernHemisphere-windspeedvsLatitude.png\")\n",
    "plt.show()\n",
    "print(\"The R-Value is :\" + str(rvalue) )"
   ]
  },
  {
   "cell_type": "code",
   "execution_count": null,
   "metadata": {},
   "outputs": [],
   "source": []
  },
  {
   "cell_type": "code",
   "execution_count": null,
   "metadata": {},
   "outputs": [],
   "source": []
  },
  {
   "cell_type": "code",
   "execution_count": null,
   "metadata": {},
   "outputs": [],
   "source": []
  }
 ],
 "metadata": {
  "anaconda-cloud": {},
  "kernel_info": {
   "name": "python3"
  },
  "kernelspec": {
   "display_name": "Python 3",
   "language": "python",
   "name": "python3"
  },
  "language_info": {
   "codemirror_mode": {
    "name": "ipython",
    "version": 3
   },
   "file_extension": ".py",
   "mimetype": "text/x-python",
   "name": "python",
   "nbconvert_exporter": "python",
   "pygments_lexer": "ipython3",
   "version": "3.8.8"
  },
  "latex_envs": {
   "LaTeX_envs_menu_present": true,
   "autoclose": false,
   "autocomplete": true,
   "bibliofile": "biblio.bib",
   "cite_by": "apalike",
   "current_citInitial": 1,
   "eqLabelWithNumbers": true,
   "eqNumInitial": 1,
   "hotkeys": {
    "equation": "Ctrl-E",
    "itemize": "Ctrl-I"
   },
   "labels_anchors": false,
   "latex_user_defs": false,
   "report_style_numbering": false,
   "user_envs_cfg": false
  },
  "nteract": {
   "version": "0.12.3"
  }
 },
 "nbformat": 4,
 "nbformat_minor": 2
}

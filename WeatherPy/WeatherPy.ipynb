{
 "cells": [
  {
   "cell_type": "markdown",
   "metadata": {},
   "source": [
    "# WeatherPy\n",
    "----\n",
    "\n",
    "#### Note\n",
    "* Instructions have been included for each segment. You do not have to follow them exactly, but they are included to help you think through the steps."
   ]
  },
  {
   "cell_type": "code",
   "execution_count": 1,
   "metadata": {
    "scrolled": true
   },
   "outputs": [],
   "source": [
    "# Dependencies and Setup\n",
    "import matplotlib.pyplot as plt\n",
    "import pandas as pd\n",
    "import numpy as np\n",
    "import requests\n",
    "import time\n",
    "import json\n",
    "from scipy.stats import linregress\n",
    "\n",
    "# Import API key\n",
    "from api_keys import weather_api_key\n",
    "\n",
    "# Incorporated citipy to determine city based on latitude and longitude\n",
    "from citipy import citipy\n",
    "\n",
    "# Output File (CSV)\n",
    "output_data_file = \"output_data/cities.csv\"\n",
    "\n",
    "# Range of latitudes and longitudes\n",
    "lat_range = (-90, 90)\n",
    "lng_range = (-180, 180)"
   ]
  },
  {
   "cell_type": "markdown",
   "metadata": {},
   "source": [
    "## Generate Cities List"
   ]
  },
  {
   "cell_type": "code",
   "execution_count": 2,
   "metadata": {},
   "outputs": [
    {
     "data": {
      "text/plain": [
       "615"
      ]
     },
     "execution_count": 2,
     "metadata": {},
     "output_type": "execute_result"
    }
   ],
   "source": [
    "# List for holding lat_lngs and cities\n",
    "lat_lngs = []\n",
    "cities = []\n",
    "# Create a set of random lat and lng combinations\n",
    "lats = np.random.uniform(lat_range[0], lat_range[1], size=1500)\n",
    "lngs = np.random.uniform(lng_range[0], lng_range[1], size=1500)\n",
    "lat_lngs = zip(lats, lngs)\n",
    "\n",
    "# Identify nearest city for each lat, lng combination\n",
    "for lat_lng in lat_lngs:\n",
    "    city = citipy.nearest_city(lat_lng[0], lat_lng[1]).city_name\n",
    "    \n",
    "    # If the city is unique, then add it to a our cities list\n",
    "    if city not in cities:\n",
    "        cities.append(city)\n",
    "\n",
    "# Print the city count to confirm sufficient count\n",
    "len(cities)\n"
   ]
  },
  {
   "cell_type": "markdown",
   "metadata": {},
   "source": [
    "### Perform API Calls\n",
    "* Perform a weather check on each city using a series of successive API calls.\n",
    "* Include a print log of each city as it'sbeing processed (with the city number and city name).\n"
   ]
  },
  {
   "cell_type": "code",
   "execution_count": 7,
   "metadata": {
    "scrolled": true
   },
   "outputs": [
    {
     "name": "stdout",
     "output_type": "stream",
     "text": [
      "Processing data for skalistyy\n",
      "city not available\n",
      "Processing data for kuche\n",
      "city not available\n",
      "Processing data for faanui\n",
      "Processing data for hithadhoo\n",
      "Processing data for rosita\n",
      "Processing data for hasaki\n",
      "Processing data for crab hill\n",
      "city not available\n",
      "Processing data for cape town\n",
      "Processing data for rikitea\n",
      "Processing data for ushuaia\n",
      "Processing data for grand island\n",
      "Processing data for mar del plata\n",
      "Processing data for tuktoyaktuk\n",
      "Processing data for bluff\n",
      "Processing data for rocha\n",
      "Processing data for saint-georges\n",
      "Processing data for klaksvik\n",
      "Processing data for chiredzi\n",
      "Processing data for jamestown\n",
      "Processing data for arraial do cabo\n",
      "Processing data for esperance\n",
      "Processing data for busselton\n",
      "Processing data for boa vista\n",
      "Processing data for illoqqortoormiut\n",
      "city not available\n",
      "Processing data for saint george\n",
      "Processing data for las palmas\n",
      "Processing data for tuatapere\n",
      "Processing data for east london\n",
      "Processing data for viesca\n",
      "Processing data for ancona\n",
      "Processing data for puerto madero\n",
      "Processing data for hermanus\n",
      "Processing data for dolbeau\n",
      "city not available\n",
      "Processing data for vaini\n",
      "Processing data for cherskiy\n",
      "Processing data for upernavik\n",
      "Processing data for benguela\n",
      "Processing data for victoria\n",
      "Processing data for mahebourg\n",
      "Processing data for atherton\n",
      "Processing data for yarmouth\n",
      "Processing data for ugoofaaru\n",
      "Processing data for qaqortoq\n",
      "Processing data for skibbereen\n",
      "Processing data for velagici\n",
      "Processing data for albany\n",
      "Processing data for mataura\n",
      "Processing data for mogadishu\n",
      "Processing data for madimba\n",
      "Processing data for fukuma\n",
      "Processing data for porgera\n",
      "Processing data for severo-kurilsk\n",
      "Processing data for goma\n",
      "Processing data for torbay\n",
      "Processing data for hobart\n",
      "Processing data for terny\n",
      "Processing data for dunedin\n",
      "Processing data for lebu\n",
      "Processing data for palmas bellas\n",
      "Processing data for vanimo\n",
      "Processing data for ilulissat\n",
      "Processing data for arecibo\n",
      "Processing data for laguna\n",
      "Processing data for kerki\n",
      "city not available\n",
      "Processing data for barentsburg\n",
      "city not available\n",
      "Processing data for port hardy\n",
      "Processing data for adrian\n",
      "Processing data for punta arenas\n",
      "Processing data for dingle\n",
      "Processing data for carnarvon\n",
      "Processing data for avera\n",
      "Processing data for okha\n",
      "Processing data for butaritari\n",
      "Processing data for bairiki\n",
      "Processing data for khandyga\n",
      "Processing data for port macquarie\n",
      "Processing data for ponta do sol\n",
      "Processing data for mendi\n",
      "Processing data for waycross\n",
      "Processing data for waukesha\n",
      "Processing data for kunya\n",
      "Processing data for inirida\n",
      "Processing data for atasu\n",
      "Processing data for kangaatsiaq\n",
      "Processing data for hilo\n",
      "Processing data for kaeo\n",
      "Processing data for shingu\n",
      "Processing data for katsuura\n",
      "Processing data for mahibadhoo\n",
      "Processing data for nikolskoye\n",
      "Processing data for talnakh\n",
      "Processing data for taseyevo\n",
      "Processing data for narsaq\n",
      "Processing data for sentyabrskiy\n",
      "city not available\n",
      "Processing data for kruisfontein\n",
      "Processing data for cabo san lucas\n",
      "Processing data for belmonte\n",
      "Processing data for yar-sale\n",
      "Processing data for bonavista\n",
      "Processing data for caravelas\n",
      "Processing data for zyryanka\n",
      "Processing data for kayerkan\n",
      "Processing data for yellowknife\n",
      "Processing data for ilebo\n",
      "Processing data for longyearbyen\n",
      "Processing data for qaanaaq\n",
      "Processing data for bredasdorp\n",
      "Processing data for khatanga\n",
      "Processing data for taldan\n",
      "Processing data for kapaa\n",
      "Processing data for atuona\n",
      "Processing data for grindavik\n",
      "Processing data for aksu\n",
      "Processing data for coquimbo\n",
      "Processing data for tiarei\n",
      "Processing data for port alfred\n",
      "Processing data for belaya gora\n",
      "Processing data for clyde river\n",
      "Processing data for formosa\n",
      "Processing data for pacific grove\n",
      "Processing data for saint-augustin\n",
      "Processing data for chickasha\n",
      "Processing data for palabuhanratu\n",
      "city not available\n",
      "Processing data for vaitupu\n",
      "city not available\n",
      "Processing data for kodiak\n",
      "Processing data for guarapari\n",
      "Processing data for bathsheba\n",
      "Processing data for pilar\n",
      "Processing data for kavieng\n",
      "Processing data for tasiilaq\n",
      "Processing data for bethel\n",
      "Processing data for thompson\n",
      "Processing data for tari\n",
      "Processing data for nuuk\n",
      "Processing data for cidreira\n",
      "Processing data for great falls\n",
      "Processing data for mount hagen\n",
      "Processing data for port elizabeth\n",
      "Processing data for petatlan\n",
      "Processing data for kilindoni\n",
      "Processing data for sibolga\n",
      "Processing data for barrow\n",
      "Processing data for tabas\n",
      "Processing data for tiksi\n",
      "Processing data for carinhanha\n",
      "Processing data for ostrovnoy\n",
      "Processing data for cayenne\n",
      "Processing data for codrington\n",
      "Processing data for brokopondo\n",
      "Processing data for new norfolk\n",
      "Processing data for san nicolas guadalupe\n",
      "Processing data for yulara\n",
      "Processing data for nhulunbuy\n",
      "Processing data for simbahan\n",
      "Processing data for afmadu\n",
      "city not available\n",
      "Processing data for prince albert\n",
      "Processing data for iberia\n",
      "Processing data for tura\n",
      "Processing data for kula\n",
      "Processing data for haibowan\n",
      "city not available\n",
      "Processing data for polson\n",
      "Processing data for lady lake\n",
      "Processing data for rolim de moura\n",
      "city not available\n",
      "Processing data for sao joao da barra\n",
      "Processing data for saint-philippe\n",
      "Processing data for energetik\n",
      "Processing data for alice springs\n",
      "Processing data for ribeira grande\n",
      "Processing data for whitianga\n",
      "Processing data for goderich\n",
      "Processing data for amderma\n",
      "city not available\n",
      "Processing data for linxi\n",
      "Processing data for urumqi\n",
      "Processing data for salalah\n",
      "Processing data for ambulu\n",
      "Processing data for luderitz\n",
      "Processing data for mayor pablo lagerenza\n",
      "Processing data for husavik\n",
      "Processing data for hirara\n",
      "Processing data for avarua\n",
      "Processing data for bengkulu\n",
      "Processing data for vylkove\n",
      "Processing data for zhangye\n",
      "Processing data for georgetown\n",
      "Processing data for freetown\n",
      "Processing data for norman wells\n",
      "Processing data for nizhneyansk\n",
      "city not available\n",
      "Processing data for hofn\n",
      "Processing data for meadow lake\n",
      "Processing data for riverton\n",
      "Processing data for honiara\n",
      "Processing data for samborondon\n",
      "Processing data for sitka\n",
      "Processing data for caraquet\n",
      "Processing data for alcudia\n",
      "Processing data for puro\n",
      "Processing data for iskateley\n",
      "Processing data for samalaeulu\n",
      "city not available\n",
      "Processing data for chuy\n",
      "Processing data for kumluca\n",
      "Processing data for kaitangata\n",
      "Processing data for takoradi\n",
      "Processing data for la vega\n",
      "Processing data for margate\n",
      "Processing data for ahipara\n",
      "Processing data for tarudant\n",
      "city not available\n",
      "Processing data for mizdah\n",
      "Processing data for maningrida\n",
      "Processing data for assomada\n",
      "Processing data for kemijarvi\n",
      "Processing data for thaba-tseka\n",
      "Processing data for castro\n",
      "Processing data for nortelandia\n",
      "Processing data for souillac\n",
      "Processing data for leshan\n",
      "Processing data for fortuna\n",
      "Processing data for taolanaro\n",
      "city not available\n",
      "Processing data for uvira\n",
      "Processing data for vila franca do campo\n",
      "Processing data for maniitsoq\n",
      "Processing data for port hedland\n",
      "Processing data for sioux city\n",
      "Processing data for moengo\n",
      "Processing data for monte cristi\n",
      "city not available\n",
      "Processing data for coihaique\n",
      "Processing data for mocuba\n",
      "Processing data for guararapes\n",
      "Processing data for bac lieu\n",
      "Processing data for marystown\n",
      "Processing data for kalmunai\n",
      "Processing data for kununurra\n",
      "Processing data for poum\n",
      "Processing data for hualmay\n",
      "Processing data for toftlund\n",
      "Processing data for natchez\n",
      "Processing data for nha trang\n",
      "Processing data for fare\n",
      "Processing data for lucapa\n",
      "Processing data for luba\n",
      "Processing data for grand river south east\n",
      "city not available\n",
      "Processing data for chokurdakh\n",
      "Processing data for geraldton\n",
      "Processing data for cupira\n",
      "Processing data for moose factory\n",
      "Processing data for airai\n",
      "Processing data for gunjur\n",
      "Processing data for bolungarvik\n",
      "city not available\n",
      "Processing data for pevek\n",
      "Processing data for acapulco\n",
      "Processing data for tabuk\n",
      "Processing data for taltal\n",
      "Processing data for karkaralinsk\n",
      "city not available\n",
      "Processing data for richards bay\n",
      "Processing data for dikson\n",
      "Processing data for stornoway\n",
      "Processing data for petropavlovsk-kamchatskiy\n",
      "Processing data for tual\n",
      "Processing data for yaan\n",
      "Processing data for barcelos\n",
      "Processing data for guerrero negro\n",
      "Processing data for vila\n",
      "Processing data for adrar\n",
      "Processing data for lasa\n",
      "Processing data for uyuni\n",
      "Processing data for muli\n",
      "Processing data for campestre\n",
      "Processing data for atar\n",
      "Processing data for jutai\n",
      "Processing data for hamilton\n"
     ]
    },
    {
     "name": "stdout",
     "output_type": "stream",
     "text": [
      "Processing data for faya\n",
      "Processing data for provideniya\n",
      "Processing data for marsaxlokk\n",
      "Processing data for novoyegoryevskoye\n",
      "city not available\n",
      "Processing data for attawapiskat\n",
      "city not available\n",
      "Processing data for tanjong malim\n",
      "city not available\n",
      "Processing data for manono\n",
      "Processing data for alofi\n",
      "Processing data for katherine\n",
      "Processing data for swan river\n",
      "Processing data for key largo\n",
      "Processing data for springbok\n",
      "Processing data for saskylakh\n",
      "Processing data for marzuq\n",
      "Processing data for bubaque\n",
      "Processing data for canico\n",
      "Processing data for fonte boa\n",
      "Processing data for krasnoselkup\n",
      "Processing data for samusu\n",
      "city not available\n",
      "Processing data for santa isabel do rio negro\n",
      "Processing data for bababe\n",
      "city not available\n",
      "Processing data for tiquisio\n",
      "Processing data for bambous virieux\n",
      "Processing data for cervo\n",
      "Processing data for hovd\n",
      "Processing data for spring hill\n",
      "Processing data for oxford\n",
      "Processing data for half moon bay\n",
      "Processing data for umm lajj\n",
      "Processing data for beloha\n",
      "Processing data for aklavik\n",
      "Processing data for maarianhamina\n",
      "Processing data for nemuro\n",
      "Processing data for chumikan\n",
      "Processing data for sechura\n",
      "Processing data for nanortalik\n",
      "Processing data for jalu\n",
      "Processing data for yambio\n",
      "Processing data for nishihara\n",
      "Processing data for iqaluit\n",
      "Processing data for usinsk\n",
      "Processing data for dudinka\n",
      "Processing data for ouadda\n",
      "Processing data for fort abbas\n",
      "Processing data for myitkyina\n",
      "Processing data for sampit\n",
      "Processing data for zhuhai\n",
      "Processing data for kamenskoye\n",
      "city not available\n",
      "Processing data for merauke\n",
      "Processing data for los llanos de aridane\n",
      "Processing data for gat\n",
      "Processing data for ancud\n",
      "Processing data for puerto escondido\n",
      "Processing data for olafsvik\n",
      "Processing data for elmira\n",
      "Processing data for waddan\n",
      "Processing data for mys shmidta\n",
      "city not available\n",
      "Processing data for saldanha\n",
      "Processing data for kamenka\n",
      "Processing data for walvis bay\n",
      "Processing data for normandin\n",
      "Processing data for sola\n",
      "Processing data for namibe\n",
      "Processing data for coahuayana\n",
      "Processing data for farafangana\n",
      "Processing data for vila velha\n",
      "Processing data for ocean city\n",
      "Processing data for llano de piedra\n",
      "Processing data for mesagne\n",
      "Processing data for ambilobe\n",
      "Processing data for sao gabriel da cachoeira\n",
      "Processing data for cedar city\n",
      "Processing data for gubkinskiy\n",
      "Processing data for road town\n",
      "Processing data for sangueya\n",
      "Processing data for liwale\n",
      "Processing data for sao filipe\n",
      "Processing data for ngukurr\n",
      "city not available\n",
      "Processing data for isangel\n",
      "Processing data for leninskoye\n",
      "Processing data for puerto ayora\n",
      "Processing data for saleaula\n",
      "city not available\n",
      "Processing data for port-gentil\n",
      "Processing data for juneau\n",
      "Processing data for carutapera\n",
      "Processing data for westport\n",
      "Processing data for mahajanga\n",
      "Processing data for asau\n",
      "Processing data for homer\n",
      "Processing data for nelson bay\n",
      "Processing data for arys\n",
      "Processing data for uwayl\n",
      "city not available\n",
      "Processing data for adeje\n",
      "Processing data for opuwo\n",
      "Processing data for talcahuano\n",
      "Processing data for longlac\n",
      "city not available\n",
      "Processing data for kenai\n",
      "Processing data for moa\n",
      "Processing data for po\n",
      "city not available\n",
      "Processing data for voivodeni\n",
      "Processing data for brae\n",
      "Processing data for lolua\n",
      "city not available\n",
      "Processing data for englewood\n",
      "Processing data for gobabis\n",
      "Processing data for praia da vitoria\n",
      "Processing data for roma\n",
      "Processing data for mumford\n",
      "Processing data for vereshchagino\n",
      "Processing data for hatillo\n",
      "Processing data for belushya guba\n",
      "city not available\n",
      "Processing data for danshui\n",
      "Processing data for svetlaya\n",
      "Processing data for dali\n",
      "Processing data for babanusah\n",
      "city not available\n",
      "Processing data for porto belo\n",
      "Processing data for hobyo\n",
      "Processing data for totma\n",
      "Processing data for bolshaya murta\n",
      "city not available\n",
      "Processing data for kapit\n",
      "Processing data for brigantine\n",
      "Processing data for carauari\n",
      "Processing data for conakry\n",
      "Processing data for bandarbeyla\n",
      "Processing data for matamba\n",
      "Processing data for mullaitivu\n",
      "city not available\n",
      "Processing data for san patricio\n",
      "Processing data for mackenzie\n",
      "Processing data for meulaboh\n",
      "Processing data for finspang\n",
      "Processing data for ayia galini\n",
      "Processing data for mount gambier\n",
      "Processing data for louisbourg\n",
      "city not available\n",
      "Processing data for hervey bay\n",
      "Processing data for galle\n",
      "Processing data for bontang\n",
      "Processing data for rio gallegos\n",
      "Processing data for mombetsu\n",
      "Processing data for sinnamary\n",
      "Processing data for laurel\n",
      "Processing data for zliv\n",
      "Processing data for mabaruma\n",
      "Processing data for ottumwa\n",
      "Processing data for epe\n",
      "Processing data for ixtapa\n",
      "Processing data for camacha\n",
      "Processing data for disna\n",
      "Processing data for chateaubelair\n",
      "Processing data for tarbes\n",
      "Processing data for kutum\n",
      "Processing data for saint anthony\n",
      "Processing data for banda aceh\n",
      "Processing data for athabasca\n",
      "Processing data for kazanskoye\n",
      "Processing data for beringovskiy\n",
      "Processing data for coetupo\n",
      "city not available\n",
      "Processing data for lavrentiya\n",
      "Processing data for takanosu\n",
      "Processing data for pukhrayan\n",
      "Processing data for touros\n",
      "Processing data for paulo afonso\n",
      "Processing data for caramay\n",
      "Processing data for menongue\n",
      "Processing data for lithgow\n",
      "Processing data for cockburn town\n",
      "Processing data for mezen\n",
      "Processing data for ribeira brava\n",
      "Processing data for sioux lookout\n",
      "Processing data for murygino\n",
      "Processing data for itarema\n",
      "Processing data for turan\n",
      "Processing data for ritchie\n",
      "Processing data for port lincoln\n",
      "Processing data for phnum penh\n",
      "city not available\n",
      "Processing data for deputatskiy\n",
      "Processing data for nandigama\n",
      "Processing data for fairbanks\n",
      "Processing data for muroto\n",
      "Processing data for armacao dos buzios\n",
      "city not available\n",
      "Processing data for tatvan\n",
      "Processing data for tornio\n",
      "Processing data for igarka\n",
      "Processing data for soe\n",
      "Processing data for yerbogachen\n",
      "Processing data for lompoc\n",
      "Processing data for marcona\n",
      "city not available\n",
      "Processing data for mackay\n",
      "Processing data for mawlamyine\n",
      "Processing data for wazzan\n",
      "city not available\n",
      "Processing data for gaoua\n",
      "Processing data for te anau\n",
      "Processing data for galiwinku\n",
      "city not available\n",
      "Processing data for shimoda\n",
      "Processing data for eureka\n",
      "Processing data for filingue\n",
      "Processing data for chaykovskaya\n",
      "Processing data for portland\n",
      "Processing data for kefamenanu\n",
      "Processing data for limbang\n",
      "Processing data for vestmannaeyjar\n",
      "Processing data for pozo colorado\n",
      "Processing data for mehriz\n",
      "Processing data for revda\n",
      "Processing data for constitucion\n",
      "Processing data for nome\n",
      "Processing data for qasigiannguit\n",
      "Processing data for antofagasta\n",
      "Processing data for gamba\n",
      "Processing data for udachnyy\n",
      "Processing data for le port\n",
      "Processing data for la ronge\n",
      "Processing data for samarai\n",
      "Processing data for hun\n",
      "Processing data for srednekolymsk\n",
      "Processing data for maldonado\n",
      "Processing data for rawson\n",
      "Processing data for zhigansk\n",
      "Processing data for banff\n",
      "Processing data for kamaishi\n",
      "Processing data for san nicolas\n",
      "Processing data for winnemucca\n",
      "Processing data for sabha\n",
      "Processing data for kargalinskaya\n",
      "Processing data for paranaiba\n",
      "Processing data for capitao poco\n",
      "Processing data for haines junction\n",
      "Processing data for serebryansk\n",
      "Processing data for bartlesville\n",
      "Processing data for benjamin constant\n",
      "Processing data for xiangxiang\n",
      "Processing data for chandpur\n",
      "Processing data for madinat sittah uktubar\n",
      "Processing data for flinders\n",
      "Processing data for pedasi\n",
      "Processing data for oranjemund\n",
      "Processing data for santa vitoria do palmar\n",
      "Processing data for aykhal\n",
      "Processing data for northam\n",
      "Processing data for castanos\n",
      "Processing data for batagay-alyta\n",
      "Processing data for barda\n",
      "Processing data for gilgit\n",
      "Processing data for sakakah\n",
      "Processing data for dukat\n",
      "Processing data for yunhe\n",
      "Processing data for buraydah\n",
      "Processing data for verkhnevilyuysk\n",
      "Processing data for copandaro\n",
      "city not available\n",
      "Processing data for ust-barguzin\n",
      "Processing data for cartersville\n",
      "Processing data for asyut\n",
      "Processing data for lorengau\n",
      "Processing data for nkhata bay\n",
      "Processing data for daru\n",
      "Processing data for kropotkin\n",
      "Processing data for selma\n",
      "Processing data for carmelo\n",
      "Processing data for tsabong\n",
      "Processing data for vallejo\n",
      "Processing data for kysyl-syr\n",
      "Processing data for uvalde\n",
      "Processing data for saint-pierre\n",
      "Processing data for celestun\n"
     ]
    },
    {
     "name": "stdout",
     "output_type": "stream",
     "text": [
      "Processing data for sinop\n",
      "Processing data for bilibino\n",
      "Processing data for patea\n",
      "Processing data for xifeng\n",
      "Processing data for port blair\n",
      "Processing data for mirabad\n",
      "Processing data for lagoa\n",
      "Processing data for basi\n",
      "Processing data for maragogi\n",
      "Processing data for hay river\n",
      "Processing data for kjollefjord\n",
      "Processing data for karaul\n",
      "city not available\n",
      "Processing data for atambua\n",
      "Processing data for orodara\n",
      "Processing data for sakata\n",
      "Processing data for galgani\n",
      "city not available\n",
      "Processing data for panjakent\n",
      "Processing data for hami\n",
      "Processing data for saint-leu\n",
      "Processing data for kashi\n",
      "Processing data for toliary\n",
      "city not available\n",
      "Processing data for laureles\n",
      "Processing data for tirumullaivasal\n",
      "Processing data for severnoye\n",
      "Processing data for yenotayevka\n",
      "Processing data for zelenikovo\n",
      "Processing data for morden\n",
      "Processing data for surt\n",
      "Processing data for mago\n",
      "Processing data for umea\n",
      "Processing data for bowen\n",
      "Processing data for college\n",
      "Processing data for saquena\n",
      "Processing data for cognac\n",
      "Processing data for dengzhou\n",
      "Processing data for berlevag\n",
      "Processing data for sile\n",
      "Processing data for zinder\n",
      "Processing data for arvin\n",
      "Processing data for seredka\n",
      "Processing data for tymovskoye\n",
      "Processing data for malakal\n",
      "Processing data for mashhad\n",
      "Processing data for havre-saint-pierre\n",
      "Processing data for varhaug\n",
      "Processing data for nuevo progreso\n",
      "Processing data for ozernovskiy\n",
      "Processing data for stoyba\n",
      "city not available\n",
      "Processing data for magnitogorsk\n",
      "Processing data for amapa\n",
      "Processing data for sorong\n",
      "Processing data for vardo\n",
      "Processing data for tsihombe\n",
      "city not available\n",
      "Processing data for mount isa\n",
      "Processing data for gagnoa\n",
      "Processing data for ntcheu\n",
      "Processing data for kahului\n",
      "Processing data for findlay\n",
      "Processing data for soritor\n",
      "Processing data for komsomolskiy\n",
      "Processing data for bari\n",
      "Processing data for huangyan\n",
      "Processing data for padang\n",
      "Processing data for mwene-ditu\n",
      "Processing data for saint-francois\n",
      "Processing data for umm kaddadah\n",
      "Processing data for ilovlya\n",
      "Processing data for duku\n",
      "Processing data for beyneu\n",
      "Processing data for sokoni\n",
      "Processing data for bolitoc\n",
      "Processing data for riyadh\n",
      "Processing data for alamosa\n",
      "Processing data for sistranda\n",
      "Processing data for piribebuy\n",
      "Processing data for exeter\n",
      "Processing data for samana\n",
      "Processing data for puerto del rosario\n",
      "Processing data for roald\n",
      "Processing data for sobolevo\n",
      "Processing data for serenje\n",
      "Processing data for price\n",
      "Processing data for polunochnoye\n",
      "Processing data for lazaro cardenas\n"
     ]
    }
   ],
   "source": [
    "url = \"http://api.openweathermap.org/data/2.5/weather?\"\n",
    "units = \"metric\"\n",
    "lat=[]\n",
    "lng =[]\n",
    "Max_temp =[]\n",
    "Humidity =[]\n",
    "Cloudiness = []\n",
    "Wind_Speed =[]\n",
    "Country =[]\n",
    "date =[]\n",
    "city_name=[]\n",
    "\n",
    "\n",
    "# Build partial query URL\n",
    "query_url = f\"{url}appid={weather_api_key}&units={units}&q=\"\n",
    "for city in cities:\n",
    "    try:\n",
    "        response = requests.get(query_url + city).json()\n",
    "        print(\"Processing data for \" + city)\n",
    "        lat.append(response['coord']['lat'])\n",
    "        lng.append(response['coord']['lon'])\n",
    "        Max_temp.append(response['main']['temp_max'])\n",
    "        Humidity.append(response['main']['humidity'])\n",
    "        Cloudiness.append(response['clouds']['all'])\n",
    "        Wind_Speed.append(response['wind']['speed'])\n",
    "        Country.append(response['sys']['country'])\n",
    "        date.append(response['dt'])\n",
    "        city_name.append(response['name'])\n",
    "    except:\n",
    "        print(\"city not available\")\n",
    "                        \n",
    "                     \n",
    "\n",
    "  \n",
    "#print(json.dumps(response,indent=4,sort_keys=True))\n",
    "\n",
    "\n"
   ]
  },
  {
   "cell_type": "markdown",
   "metadata": {},
   "source": [
    "### Convert Raw Data to DataFrame\n",
    "* Export the city data into a .csv.\n",
    "* Display the DataFrame"
   ]
  },
  {
   "cell_type": "code",
   "execution_count": 14,
   "metadata": {
    "scrolled": true
   },
   "outputs": [
    {
     "data": {
      "text/html": [
       "<div>\n",
       "<style scoped>\n",
       "    .dataframe tbody tr th:only-of-type {\n",
       "        vertical-align: middle;\n",
       "    }\n",
       "\n",
       "    .dataframe tbody tr th {\n",
       "        vertical-align: top;\n",
       "    }\n",
       "\n",
       "    .dataframe thead th {\n",
       "        text-align: right;\n",
       "    }\n",
       "</style>\n",
       "<table border=\"1\" class=\"dataframe\">\n",
       "  <thead>\n",
       "    <tr style=\"text-align: right;\">\n",
       "      <th></th>\n",
       "      <th>city</th>\n",
       "      <th>lat</th>\n",
       "      <th>lng</th>\n",
       "      <th>Max_Temp</th>\n",
       "      <th>Humidity</th>\n",
       "      <th>Cloudiness</th>\n",
       "      <th>Wind Speed</th>\n",
       "      <th>Country</th>\n",
       "      <th>date</th>\n",
       "    </tr>\n",
       "  </thead>\n",
       "  <tbody>\n",
       "    <tr>\n",
       "      <th>0</th>\n",
       "      <td>Faanui</td>\n",
       "      <td>-16.4833</td>\n",
       "      <td>-151.7500</td>\n",
       "      <td>27.30</td>\n",
       "      <td>75</td>\n",
       "      <td>37</td>\n",
       "      <td>6.26</td>\n",
       "      <td>PF</td>\n",
       "      <td>1619037877</td>\n",
       "    </tr>\n",
       "    <tr>\n",
       "      <th>1</th>\n",
       "      <td>Hithadhoo</td>\n",
       "      <td>-0.6000</td>\n",
       "      <td>73.0833</td>\n",
       "      <td>27.99</td>\n",
       "      <td>68</td>\n",
       "      <td>23</td>\n",
       "      <td>2.42</td>\n",
       "      <td>MV</td>\n",
       "      <td>1619037877</td>\n",
       "    </tr>\n",
       "    <tr>\n",
       "      <th>2</th>\n",
       "      <td>Rosita</td>\n",
       "      <td>13.9268</td>\n",
       "      <td>-84.4032</td>\n",
       "      <td>33.55</td>\n",
       "      <td>35</td>\n",
       "      <td>88</td>\n",
       "      <td>3.45</td>\n",
       "      <td>NI</td>\n",
       "      <td>1619037877</td>\n",
       "    </tr>\n",
       "    <tr>\n",
       "      <th>3</th>\n",
       "      <td>Hasaki</td>\n",
       "      <td>35.7333</td>\n",
       "      <td>140.8333</td>\n",
       "      <td>8.00</td>\n",
       "      <td>93</td>\n",
       "      <td>20</td>\n",
       "      <td>1.03</td>\n",
       "      <td>JP</td>\n",
       "      <td>1619037878</td>\n",
       "    </tr>\n",
       "    <tr>\n",
       "      <th>4</th>\n",
       "      <td>Cape Town</td>\n",
       "      <td>-33.9258</td>\n",
       "      <td>18.4232</td>\n",
       "      <td>19.00</td>\n",
       "      <td>77</td>\n",
       "      <td>0</td>\n",
       "      <td>3.60</td>\n",
       "      <td>ZA</td>\n",
       "      <td>1619038277</td>\n",
       "    </tr>\n",
       "  </tbody>\n",
       "</table>\n",
       "</div>"
      ],
      "text/plain": [
       "        city      lat       lng  Max_Temp  Humidity  Cloudiness  Wind Speed  \\\n",
       "0     Faanui -16.4833 -151.7500     27.30        75          37        6.26   \n",
       "1  Hithadhoo  -0.6000   73.0833     27.99        68          23        2.42   \n",
       "2     Rosita  13.9268  -84.4032     33.55        35          88        3.45   \n",
       "3     Hasaki  35.7333  140.8333      8.00        93          20        1.03   \n",
       "4  Cape Town -33.9258   18.4232     19.00        77           0        3.60   \n",
       "\n",
       "  Country        date  \n",
       "0      PF  1619037877  \n",
       "1      MV  1619037877  \n",
       "2      NI  1619037877  \n",
       "3      JP  1619037878  \n",
       "4      ZA  1619038277  "
      ]
     },
     "execution_count": 14,
     "metadata": {},
     "output_type": "execute_result"
    }
   ],
   "source": [
    "weather_dict = {\n",
    "    \"city\": city_name,\n",
    "    \"lat\": lat,\n",
    "    \"lng\": lng,\n",
    "    \"Max_Temp\":Max_temp,\n",
    "    \"Humidity\":Humidity,\n",
    "    \"Cloudiness\":Cloudiness,\n",
    "    \"Wind Speed\":Wind_Speed,\n",
    "    \"Country\":Country,\n",
    "    \"date\":date   \n",
    "\n",
    "}\n",
    "weather_data = pd.DataFrame(weather_dict)\n",
    "weather_data.head()"
   ]
  },
  {
   "cell_type": "code",
   "execution_count": 15,
   "metadata": {},
   "outputs": [
    {
     "data": {
      "text/plain": [
       "city          563\n",
       "lat           563\n",
       "lng           563\n",
       "Max_Temp      563\n",
       "Humidity      563\n",
       "Cloudiness    563\n",
       "Wind Speed    563\n",
       "Country       563\n",
       "date          563\n",
       "dtype: int64"
      ]
     },
     "execution_count": 15,
     "metadata": {},
     "output_type": "execute_result"
    }
   ],
   "source": [
    "weather_data.count()"
   ]
  },
  {
   "cell_type": "code",
   "execution_count": 16,
   "metadata": {},
   "outputs": [],
   "source": [
    "weather_data.to_csv(\"weather_data.csv\", encoding=\"utf-8\", index=False)"
   ]
  },
  {
   "cell_type": "code",
   "execution_count": 22,
   "metadata": {},
   "outputs": [
    {
     "data": {
      "text/plain": [
       "city           object\n",
       "lat           float64\n",
       "lng           float64\n",
       "Max_Temp      float64\n",
       "Humidity        int64\n",
       "Cloudiness      int64\n",
       "Wind Speed    float64\n",
       "Country        object\n",
       "date            int64\n",
       "dtype: object"
      ]
     },
     "execution_count": 22,
     "metadata": {},
     "output_type": "execute_result"
    }
   ],
   "source": [
    "weather_data.dtypes"
   ]
  },
  {
   "cell_type": "markdown",
   "metadata": {},
   "source": [
    "## Inspect the data and remove the cities where the humidity > 100%.\n",
    "----\n",
    "Skip this step if there are no cities that have humidity > 100%. "
   ]
  },
  {
   "cell_type": "code",
   "execution_count": 17,
   "metadata": {},
   "outputs": [],
   "source": [
    "# there is no city where humiity is more than 100 % ion my weather data set"
   ]
  },
  {
   "cell_type": "code",
   "execution_count": 18,
   "metadata": {},
   "outputs": [
    {
     "data": {
      "text/html": [
       "<div>\n",
       "<style scoped>\n",
       "    .dataframe tbody tr th:only-of-type {\n",
       "        vertical-align: middle;\n",
       "    }\n",
       "\n",
       "    .dataframe tbody tr th {\n",
       "        vertical-align: top;\n",
       "    }\n",
       "\n",
       "    .dataframe thead th {\n",
       "        text-align: right;\n",
       "    }\n",
       "</style>\n",
       "<table border=\"1\" class=\"dataframe\">\n",
       "  <thead>\n",
       "    <tr style=\"text-align: right;\">\n",
       "      <th></th>\n",
       "      <th>city</th>\n",
       "      <th>lat</th>\n",
       "      <th>lng</th>\n",
       "      <th>Max_Temp</th>\n",
       "      <th>Humidity</th>\n",
       "      <th>Cloudiness</th>\n",
       "      <th>Wind Speed</th>\n",
       "      <th>Country</th>\n",
       "      <th>date</th>\n",
       "    </tr>\n",
       "  </thead>\n",
       "  <tbody>\n",
       "  </tbody>\n",
       "</table>\n",
       "</div>"
      ],
      "text/plain": [
       "Empty DataFrame\n",
       "Columns: [city, lat, lng, Max_Temp, Humidity, Cloudiness, Wind Speed, Country, date]\n",
       "Index: []"
      ]
     },
     "execution_count": 18,
     "metadata": {},
     "output_type": "execute_result"
    }
   ],
   "source": [
    "#  Get the indices of cities that have humidity over 100%.\n",
    "weather_data[weather_data.Humidity > 100]"
   ]
  },
  {
   "cell_type": "code",
   "execution_count": 19,
   "metadata": {},
   "outputs": [],
   "source": [
    "# Make a new DataFrame equal to the city data to drop all humidity outliers by index.\n",
    "# Passing \"inplace=False\" will make a copy of the city_data DataFrame, which we call \"clean_city_data\".\n"
   ]
  },
  {
   "cell_type": "markdown",
   "metadata": {},
   "source": [
    "## Plotting the Data\n",
    "* Use proper labeling of the plots using plot titles (including date of analysis) and axes labels.\n",
    "* Save the plotted figures as .pngs."
   ]
  },
  {
   "cell_type": "markdown",
   "metadata": {},
   "source": [
    "## Latitude vs. Temperature Plot"
   ]
  },
  {
   "cell_type": "code",
   "execution_count": 27,
   "metadata": {
    "scrolled": true
   },
   "outputs": [
    {
     "data": {
      "image/png": "[encoded data removed]",
      "text/plain": [
       "<Figure size 432x288 with 1 Axes>"
      ]
     },
     "metadata": {
      "needs_background": "light"
     },
     "output_type": "display_data"
    }
   ],
   "source": [
    "\n",
    "plt.scatter(weather_data[\"lat\"], weather_data[\"Max_Temp\"], marker=\"o\", facecolors=\"red\", edgecolors=\"black\")\n",
    "plt.title(\"City Latitude VS Max Temperature (04/21/2021)\")\n",
    "plt.xlabel(\"Latitude\")\n",
    "plt.ylabel(\"Max Temperature()\")\n",
    "plt.savefig(\"../Images/LatVsTemp.png\")\n",
    "plt.show()"
   ]
  },
  {
   "cell_type": "markdown",
   "metadata": {},
   "source": [
    "## Latitude vs. Humidity Plot"
   ]
  },
  {
   "cell_type": "code",
   "execution_count": 32,
   "metadata": {},
   "outputs": [
    {
     "data": {
      "image/png": "[encoded data removed]",
      "text/plain": [
       "<Figure size 432x288 with 1 Axes>"
      ]
     },
     "metadata": {
      "needs_background": "light"
     },
     "output_type": "display_data"
    }
   ],
   "source": [
    "plt.scatter(weather_data[\"lat\"], weather_data[\"Humidity\"], marker=\"o\", facecolors=\"red\", edgecolors=\"black\")\n",
    "plt.title(\"City Latitude VS Humidity (04/21/2021)\")\n",
    "plt.xlabel(\"Latitude\")\n",
    "plt.ylabel(\"Humidity (%)\")\n",
    "plt.savefig(\"../Images/LatVsHumidity.png\")\n",
    "plt.show()"
   ]
  },
  {
   "cell_type": "markdown",
   "metadata": {},
   "source": [
    "## Latitude vs. Cloudiness Plot"
   ]
  },
  {
   "cell_type": "code",
   "execution_count": 33,
   "metadata": {},
   "outputs": [
    {
     "data": {
      "image/png": "[encoded data removed]",
      "text/plain": [
       "<Figure size 432x288 with 1 Axes>"
      ]
     },
     "metadata": {
      "needs_background": "light"
     },
     "output_type": "display_data"
    }
   ],
   "source": [
    "plt.scatter(weather_data[\"lat\"], weather_data[\"Cloudiness\"], marker=\"o\", facecolors=\"red\", edgecolors=\"black\")\n",
    "plt.title(\"City Latitude VS Cloudiness (04/21/2021)\")\n",
    "plt.xlabel(\"Latitude\")\n",
    "plt.ylabel(\"Cloudiness (%)\")\n",
    "plt.savefig(\"../Images/LatVsCloudiness.png\")\n",
    "plt.show()"
   ]
  },
  {
   "cell_type": "markdown",
   "metadata": {},
   "source": [
    "## Latitude vs. Wind Speed Plot"
   ]
  },
  {
   "cell_type": "code",
   "execution_count": 35,
   "metadata": {},
   "outputs": [
    {
     "data": {
      "image/png": "[encoded data removed]",
      "text/plain": [
       "<Figure size 432x288 with 1 Axes>"
      ]
     },
     "metadata": {
      "needs_background": "light"
     },
     "output_type": "display_data"
    }
   ],
   "source": [
    "plt.scatter(weather_data[\"lat\"], weather_data[\"Wind Speed\"], marker=\"o\", facecolors=\"red\", edgecolors=\"black\")\n",
    "plt.title(\"City Latitude VS Wind Speed (04/21/2021)\")\n",
    "plt.xlabel(\"Latitude\")\n",
    "plt.ylabel(\"Wind Speed (kmph)\")\n",
    "plt.savefig(\"../Images/LatVsWindSpeed.png\")\n",
    "plt.show()"
   ]
  },
  {
   "cell_type": "markdown",
   "metadata": {},
   "source": [
    "## Linear Regression"
   ]
  },
  {
   "cell_type": "code",
   "execution_count": 51,
   "metadata": {},
   "outputs": [
    {
     "data": {
      "text/html": [
       "<div>\n",
       "<style scoped>\n",
       "    .dataframe tbody tr th:only-of-type {\n",
       "        vertical-align: middle;\n",
       "    }\n",
       "\n",
       "    .dataframe tbody tr th {\n",
       "        vertical-align: top;\n",
       "    }\n",
       "\n",
       "    .dataframe thead th {\n",
       "        text-align: right;\n",
       "    }\n",
       "</style>\n",
       "<table border=\"1\" class=\"dataframe\">\n",
       "  <thead>\n",
       "    <tr style=\"text-align: right;\">\n",
       "      <th></th>\n",
       "      <th>city</th>\n",
       "      <th>lat</th>\n",
       "      <th>lng</th>\n",
       "      <th>Max_Temp</th>\n",
       "      <th>Humidity</th>\n",
       "      <th>Cloudiness</th>\n",
       "      <th>Wind Speed</th>\n",
       "      <th>Country</th>\n",
       "      <th>date</th>\n",
       "    </tr>\n",
       "  </thead>\n",
       "  <tbody>\n",
       "    <tr>\n",
       "      <th>2</th>\n",
       "      <td>Rosita</td>\n",
       "      <td>13.9268</td>\n",
       "      <td>-84.4032</td>\n",
       "      <td>33.55</td>\n",
       "      <td>35</td>\n",
       "      <td>88</td>\n",
       "      <td>3.45</td>\n",
       "      <td>NI</td>\n",
       "      <td>1619037877</td>\n",
       "    </tr>\n",
       "    <tr>\n",
       "      <th>3</th>\n",
       "      <td>Hasaki</td>\n",
       "      <td>35.7333</td>\n",
       "      <td>140.8333</td>\n",
       "      <td>8.00</td>\n",
       "      <td>93</td>\n",
       "      <td>20</td>\n",
       "      <td>1.03</td>\n",
       "      <td>JP</td>\n",
       "      <td>1619037878</td>\n",
       "    </tr>\n",
       "    <tr>\n",
       "      <th>7</th>\n",
       "      <td>Grand Island</td>\n",
       "      <td>40.9250</td>\n",
       "      <td>-98.3420</td>\n",
       "      <td>8.00</td>\n",
       "      <td>31</td>\n",
       "      <td>90</td>\n",
       "      <td>6.69</td>\n",
       "      <td>US</td>\n",
       "      <td>1619037798</td>\n",
       "    </tr>\n",
       "    <tr>\n",
       "      <th>9</th>\n",
       "      <td>Tuktoyaktuk</td>\n",
       "      <td>69.4541</td>\n",
       "      <td>-133.0374</td>\n",
       "      <td>-12.00</td>\n",
       "      <td>79</td>\n",
       "      <td>90</td>\n",
       "      <td>10.29</td>\n",
       "      <td>CA</td>\n",
       "      <td>1619037879</td>\n",
       "    </tr>\n",
       "    <tr>\n",
       "      <th>12</th>\n",
       "      <td>St. George's</td>\n",
       "      <td>12.0564</td>\n",
       "      <td>-61.7485</td>\n",
       "      <td>29.00</td>\n",
       "      <td>65</td>\n",
       "      <td>20</td>\n",
       "      <td>10.29</td>\n",
       "      <td>GD</td>\n",
       "      <td>1619037880</td>\n",
       "    </tr>\n",
       "  </tbody>\n",
       "</table>\n",
       "</div>"
      ],
      "text/plain": [
       "            city      lat       lng  Max_Temp  Humidity  Cloudiness  \\\n",
       "2         Rosita  13.9268  -84.4032     33.55        35          88   \n",
       "3         Hasaki  35.7333  140.8333      8.00        93          20   \n",
       "7   Grand Island  40.9250  -98.3420      8.00        31          90   \n",
       "9    Tuktoyaktuk  69.4541 -133.0374    -12.00        79          90   \n",
       "12  St. George's  12.0564  -61.7485     29.00        65          20   \n",
       "\n",
       "    Wind Speed Country        date  \n",
       "2         3.45      NI  1619037877  \n",
       "3         1.03      JP  1619037878  \n",
       "7         6.69      US  1619037798  \n",
       "9        10.29      CA  1619037879  \n",
       "12       10.29      GD  1619037880  "
      ]
     },
     "execution_count": 51,
     "metadata": {},
     "output_type": "execute_result"
    }
   ],
   "source": [
    "north_hemi = weather_data[weather_data[\"lat\"]>0]\n",
    "north_hemi.head()"
   ]
  },
  {
   "cell_type": "code",
   "execution_count": 52,
   "metadata": {},
   "outputs": [
    {
     "data": {
      "text/html": [
       "<div>\n",
       "<style scoped>\n",
       "    .dataframe tbody tr th:only-of-type {\n",
       "        vertical-align: middle;\n",
       "    }\n",
       "\n",
       "    .dataframe tbody tr th {\n",
       "        vertical-align: top;\n",
       "    }\n",
       "\n",
       "    .dataframe thead th {\n",
       "        text-align: right;\n",
       "    }\n",
       "</style>\n",
       "<table border=\"1\" class=\"dataframe\">\n",
       "  <thead>\n",
       "    <tr style=\"text-align: right;\">\n",
       "      <th></th>\n",
       "      <th>city</th>\n",
       "      <th>lat</th>\n",
       "      <th>lng</th>\n",
       "      <th>Max_Temp</th>\n",
       "      <th>Humidity</th>\n",
       "      <th>Cloudiness</th>\n",
       "      <th>Wind Speed</th>\n",
       "      <th>Country</th>\n",
       "      <th>date</th>\n",
       "    </tr>\n",
       "  </thead>\n",
       "  <tbody>\n",
       "    <tr>\n",
       "      <th>0</th>\n",
       "      <td>Faanui</td>\n",
       "      <td>-16.4833</td>\n",
       "      <td>-151.7500</td>\n",
       "      <td>27.30</td>\n",
       "      <td>75</td>\n",
       "      <td>37</td>\n",
       "      <td>6.26</td>\n",
       "      <td>PF</td>\n",
       "      <td>1619037877</td>\n",
       "    </tr>\n",
       "    <tr>\n",
       "      <th>1</th>\n",
       "      <td>Hithadhoo</td>\n",
       "      <td>-0.6000</td>\n",
       "      <td>73.0833</td>\n",
       "      <td>27.99</td>\n",
       "      <td>68</td>\n",
       "      <td>23</td>\n",
       "      <td>2.42</td>\n",
       "      <td>MV</td>\n",
       "      <td>1619037877</td>\n",
       "    </tr>\n",
       "    <tr>\n",
       "      <th>4</th>\n",
       "      <td>Cape Town</td>\n",
       "      <td>-33.9258</td>\n",
       "      <td>18.4232</td>\n",
       "      <td>19.00</td>\n",
       "      <td>77</td>\n",
       "      <td>0</td>\n",
       "      <td>3.60</td>\n",
       "      <td>ZA</td>\n",
       "      <td>1619038277</td>\n",
       "    </tr>\n",
       "    <tr>\n",
       "      <th>5</th>\n",
       "      <td>Rikitea</td>\n",
       "      <td>-23.1203</td>\n",
       "      <td>-134.9692</td>\n",
       "      <td>25.70</td>\n",
       "      <td>71</td>\n",
       "      <td>15</td>\n",
       "      <td>5.23</td>\n",
       "      <td>PF</td>\n",
       "      <td>1619037878</td>\n",
       "    </tr>\n",
       "    <tr>\n",
       "      <th>6</th>\n",
       "      <td>Ushuaia</td>\n",
       "      <td>-54.8000</td>\n",
       "      <td>-68.3000</td>\n",
       "      <td>10.00</td>\n",
       "      <td>50</td>\n",
       "      <td>0</td>\n",
       "      <td>0.60</td>\n",
       "      <td>AR</td>\n",
       "      <td>1619037878</td>\n",
       "    </tr>\n",
       "  </tbody>\n",
       "</table>\n",
       "</div>"
      ],
      "text/plain": [
       "        city      lat       lng  Max_Temp  Humidity  Cloudiness  Wind Speed  \\\n",
       "0     Faanui -16.4833 -151.7500     27.30        75          37        6.26   \n",
       "1  Hithadhoo  -0.6000   73.0833     27.99        68          23        2.42   \n",
       "4  Cape Town -33.9258   18.4232     19.00        77           0        3.60   \n",
       "5    Rikitea -23.1203 -134.9692     25.70        71          15        5.23   \n",
       "6    Ushuaia -54.8000  -68.3000     10.00        50           0        0.60   \n",
       "\n",
       "  Country        date  \n",
       "0      PF  1619037877  \n",
       "1      MV  1619037877  \n",
       "4      ZA  1619038277  \n",
       "5      PF  1619037878  \n",
       "6      AR  1619037878  "
      ]
     },
     "execution_count": 52,
     "metadata": {},
     "output_type": "execute_result"
    }
   ],
   "source": [
    "south_hemi = weather_data[weather_data[\"lat\"]<0]\n",
    "\n",
    "south_hemi.head()"
   ]
  },
  {
   "cell_type": "markdown",
   "metadata": {},
   "source": [
    "####  Northern Hemisphere - Max Temp vs. Latitude Linear Regression"
   ]
  },
  {
   "cell_type": "code",
   "execution_count": 56,
   "metadata": {},
   "outputs": [
    {
     "data": {
      "image/png": "[encoded data removed]",
      "text/plain": [
       "<Figure size 432x288 with 1 Axes>"
      ]
     },
     "metadata": {
      "needs_background": "light"
     },
     "output_type": "display_data"
    },
    {
     "name": "stdout",
     "output_type": "stream",
     "text": [
      "The R-Value is :-0.8889067667633582\n"
     ]
    }
   ],
   "source": [
    "x_values = north_hemi['lat']\n",
    "y_values = north_hemi['Max_Temp']\n",
    "(slope, intercept, rvalue, pvalue, stderr) = linregress(x_values, y_values)\n",
    "regress_values = x_values * slope + intercept\n",
    "line_eq = \"y = \" + str(round(slope,2)) + \"x + \" + str(round(intercept,2))\n",
    "plt.scatter(x_values,y_values)\n",
    "plt.plot(x_values,regress_values,\"r-\")\n",
    "plt.annotate(line_eq,(6,10),fontsize=15,color=\"red\")\n",
    "plt.xlabel('Latitude')\n",
    "plt.ylabel('Max Temp in Celcius')\n",
    "plt.show()\n",
    "print(\"The R-Value is :\" + str(rvalue) )"
   ]
  },
  {
   "cell_type": "markdown",
   "metadata": {},
   "source": [
    "####  Southern Hemisphere - Max Temp vs. Latitude Linear Regression"
   ]
  },
  {
   "cell_type": "code",
   "execution_count": 59,
   "metadata": {},
   "outputs": [
    {
     "data": {
      "image/png": "[encoded data removed]",
      "text/plain": [
       "<Figure size 432x288 with 1 Axes>"
      ]
     },
     "metadata": {
      "needs_background": "light"
     },
     "output_type": "display_data"
    },
    {
     "name": "stdout",
     "output_type": "stream",
     "text": [
      "The R-Value is :0.6336530110016978\n"
     ]
    }
   ],
   "source": [
    "x_values = south_hemi['lat']\n",
    "y_values = south_hemi['Max_Temp']\n",
    "(slope, intercept, rvalue, pvalue, stderr) = linregress(x_values, y_values)\n",
    "regress_values = x_values * slope + intercept\n",
    "line_eq = \"y = \" + str(round(slope,2)) + \"x + \" + str(round(intercept,2))\n",
    "plt.scatter(x_values,y_values)\n",
    "plt.plot(x_values,regress_values,\"r-\")\n",
    "plt.annotate(line_eq,(6,10),fontsize=15,color=\"red\")\n",
    "plt.xlabel('Latitude')\n",
    "plt.ylabel('Max Temp in Celcius')\n",
    "plt.show()\n",
    "print(\"The R-Value is :\" + str(rvalue) )"
   ]
  },
  {
   "cell_type": "markdown",
   "metadata": {},
   "source": [
    "####  Northern Hemisphere - Humidity (%) vs. Latitude Linear Regression"
   ]
  },
  {
   "cell_type": "code",
   "execution_count": 62,
   "metadata": {},
   "outputs": [
    {
     "data": {
      "image/png": "[encoded data removed]",
      "text/plain": [
       "<Figure size 432x288 with 1 Axes>"
      ]
     },
     "metadata": {
      "needs_background": "light"
     },
     "output_type": "display_data"
    },
    {
     "name": "stdout",
     "output_type": "stream",
     "text": [
      "The R-Value is :0.150599844647478\n"
     ]
    }
   ],
   "source": [
    "x_values = north_hemi['lat']\n",
    "y_values = north_hemi['Humidity']\n",
    "(slope, intercept, rvalue, pvalue, stderr) = linregress(x_values, y_values)\n",
    "regress_values = x_values * slope + intercept\n",
    "line_eq = \"y = \" + str(round(slope,2)) + \"x + \" + str(round(intercept,2))\n",
    "plt.scatter(x_values,y_values)\n",
    "plt.plot(x_values,regress_values,\"r-\")\n",
    "plt.annotate(line_eq,(6,10),fontsize=15,color=\"red\")\n",
    "plt.xlabel('Latitude')\n",
    "plt.ylabel('Humidity(%)')\n",
    "plt.show()\n",
    "print(\"The R-Value is :\" + str(rvalue) )"
   ]
  },
  {
   "cell_type": "markdown",
   "metadata": {},
   "source": [
    "####  Southern Hemisphere - Humidity (%) vs. Latitude Linear Regression"
   ]
  },
  {
   "cell_type": "code",
   "execution_count": 63,
   "metadata": {},
   "outputs": [
    {
     "data": {
      "image/png": "[encoded data removed]",
      "text/plain": [
       "<Figure size 432x288 with 1 Axes>"
      ]
     },
     "metadata": {
      "needs_background": "light"
     },
     "output_type": "display_data"
    },
    {
     "name": "stdout",
     "output_type": "stream",
     "text": [
      "The R-Value is :0.15129288301349994\n"
     ]
    }
   ],
   "source": [
    "x_values = south_hemi['lat']\n",
    "y_values = south_hemi['Humidity']\n",
    "(slope, intercept, rvalue, pvalue, stderr) = linregress(x_values, y_values)\n",
    "regress_values = x_values * slope + intercept\n",
    "line_eq = \"y = \" + str(round(slope,2)) + \"x + \" + str(round(intercept,2))\n",
    "plt.scatter(x_values,y_values)\n",
    "plt.plot(x_values,regress_values,\"r-\")\n",
    "plt.annotate(line_eq,(6,10),fontsize=15,color=\"red\")\n",
    "plt.xlabel('Latitude')\n",
    "plt.ylabel('Humidity(%)')\n",
    "plt.show()\n",
    "print(\"The R-Value is :\" + str(rvalue) )"
   ]
  },
  {
   "cell_type": "markdown",
   "metadata": {},
   "source": [
    "####  Northern Hemisphere - Cloudiness (%) vs. Latitude Linear Regression"
   ]
  },
  {
   "cell_type": "code",
   "execution_count": 64,
   "metadata": {},
   "outputs": [
    {
     "data": {
      "image/png": "[encoded data removed]",
      "text/plain": [
       "<Figure size 432x288 with 1 Axes>"
      ]
     },
     "metadata": {
      "needs_background": "light"
     },
     "output_type": "display_data"
    },
    {
     "name": "stdout",
     "output_type": "stream",
     "text": [
      "The R-Value is :0.08135093880565915\n"
     ]
    }
   ],
   "source": [
    "x_values = north_hemi['lat']\n",
    "y_values = north_hemi['Cloudiness']\n",
    "(slope, intercept, rvalue, pvalue, stderr) = linregress(x_values, y_values)\n",
    "regress_values = x_values * slope + intercept\n",
    "line_eq = \"y = \" + str(round(slope,2)) + \"x + \" + str(round(intercept,2))\n",
    "plt.scatter(x_values,y_values)\n",
    "plt.plot(x_values,regress_values,\"r-\")\n",
    "plt.annotate(line_eq,(6,10),fontsize=15,color=\"red\")\n",
    "plt.xlabel('Latitude')\n",
    "plt.ylabel('Cloudiness(%)')\n",
    "plt.show()\n",
    "print(\"The R-Value is :\" + str(rvalue) )"
   ]
  },
  {
   "cell_type": "markdown",
   "metadata": {},
   "source": [
    "####  Southern Hemisphere - Cloudiness (%) vs. Latitude Linear Regression"
   ]
  },
  {
   "cell_type": "code",
   "execution_count": 65,
   "metadata": {},
   "outputs": [
    {
     "data": {
      "image/png": "[encoded data removed]",
      "text/plain": [
       "<Figure size 432x288 with 1 Axes>"
      ]
     },
     "metadata": {
      "needs_background": "light"
     },
     "output_type": "display_data"
    },
    {
     "name": "stdout",
     "output_type": "stream",
     "text": [
      "The R-Value is :0.1425710409980747\n"
     ]
    }
   ],
   "source": [
    "x_values = south_hemi['lat']\n",
    "y_values = south_hemi['Cloudiness']\n",
    "(slope, intercept, rvalue, pvalue, stderr) = linregress(x_values, y_values)\n",
    "regress_values = x_values * slope + intercept\n",
    "line_eq = \"y = \" + str(round(slope,2)) + \"x + \" + str(round(intercept,2))\n",
    "plt.scatter(x_values,y_values)\n",
    "plt.plot(x_values,regress_values,\"r-\")\n",
    "plt.annotate(line_eq,(6,10),fontsize=15,color=\"red\")\n",
    "plt.xlabel('Latitude')\n",
    "plt.ylabel('Cloudiness(%)')\n",
    "plt.show()\n",
    "print(\"The R-Value is :\" + str(rvalue) )"
   ]
  },
  {
   "cell_type": "markdown",
   "metadata": {},
   "source": [
    "####  Northern Hemisphere - Wind Speed (mph) vs. Latitude Linear Regression"
   ]
  },
  {
   "cell_type": "code",
   "execution_count": 66,
   "metadata": {},
   "outputs": [
    {
     "data": {
      "image/png": "[encoded data removed]",
      "text/plain": [
       "<Figure size 432x288 with 1 Axes>"
      ]
     },
     "metadata": {
      "needs_background": "light"
     },
     "output_type": "display_data"
    },
    {
     "name": "stdout",
     "output_type": "stream",
     "text": [
      "The R-Value is :0.033826619188785066\n"
     ]
    }
   ],
   "source": [
    "x_values = north_hemi['lat']\n",
    "y_values = north_hemi['Wind Speed']\n",
    "(slope, intercept, rvalue, pvalue, stderr) = linregress(x_values, y_values)\n",
    "regress_values = x_values * slope + intercept\n",
    "line_eq = \"y = \" + str(round(slope,2)) + \"x + \" + str(round(intercept,2))\n",
    "plt.scatter(x_values,y_values)\n",
    "plt.plot(x_values,regress_values,\"r-\")\n",
    "plt.annotate(line_eq,(6,10),fontsize=15,color=\"red\")\n",
    "plt.xlabel('Latitude')\n",
    "plt.ylabel('Wind Speed')\n",
    "plt.show()\n",
    "print(\"The R-Value is :\" + str(rvalue) )"
   ]
  },
  {
   "cell_type": "markdown",
   "metadata": {},
   "source": [
    "####  Southern Hemisphere - Wind Speed (mph) vs. Latitude Linear Regression"
   ]
  },
  {
   "cell_type": "code",
   "execution_count": 68,
   "metadata": {},
   "outputs": [
    {
     "data": {
      "image/png": "[encoded data removed]",
      "text/plain": [
       "<Figure size 432x288 with 1 Axes>"
      ]
     },
     "metadata": {
      "needs_background": "light"
     },
     "output_type": "display_data"
    },
    {
     "name": "stdout",
     "output_type": "stream",
     "text": [
      "The R-Value is :-0.17619590932911064\n"
     ]
    }
   ],
   "source": [
    "x_values = south_hemi['lat']\n",
    "y_values = south_hemi['Wind Speed']\n",
    "(slope, intercept, rvalue, pvalue, stderr) = linregress(x_values, y_values)\n",
    "regress_values = x_values * slope + intercept\n",
    "line_eq = \"y = \" + str(round(slope,2)) + \"x + \" + str(round(intercept,2))\n",
    "plt.scatter(x_values,y_values)\n",
    "plt.plot(x_values,regress_values,\"r-\")\n",
    "plt.annotate(line_eq,(6,10),fontsize=15,color=\"red\")\n",
    "plt.xlabel('Latitude')\n",
    "plt.ylabel('Wind Speed')\n",
    "plt.show()\n",
    "print(\"The R-Value is :\" + str(rvalue) )"
   ]
  },
  {
   "cell_type": "code",
   "execution_count": null,
   "metadata": {},
   "outputs": [],
   "source": []
  }
 ],
 "metadata": {
  "anaconda-cloud": {},
  "kernel_info": {
   "name": "python3"
  },
  "kernelspec": {
   "display_name": "Python 3",
   "language": "python",
   "name": "python3"
  },
  "language_info": {
   "codemirror_mode": {
    "name": "ipython",
    "version": 3
   },
   "file_extension": ".py",
   "mimetype": "text/x-python",
   "name": "python",
   "nbconvert_exporter": "python",
   "pygments_lexer": "ipython3",
   "version": "3.8.8"
  },
  "latex_envs": {
   "LaTeX_envs_menu_present": true,
   "autoclose": false,
   "autocomplete": true,
   "bibliofile": "biblio.bib",
   "cite_by": "apalike",
   "current_citInitial": 1,
   "eqLabelWithNumbers": true,
   "eqNumInitial": 1,
   "hotkeys": {
    "equation": "Ctrl-E",
    "itemize": "Ctrl-I"
   },
   "labels_anchors": false,
   "latex_user_defs": false,
   "report_style_numbering": false,
   "user_envs_cfg": false
  },
  "nteract": {
   "version": "0.12.3"
  }
 },
 "nbformat": 4,
 "nbformat_minor": 2
}
